{
 "cells": [
  {
   "cell_type": "markdown",
   "metadata": {
    "slideshow": {
     "slide_type": "slide"
    }
   },
   "source": [
    "# Interesting Data Types\n",
    "### Four numerical types\n",
    "* `int`\n",
    "* `float`\n",
    "* `complex`\n",
    "* `booleans`"
   ]
  },
  {
   "cell_type": "code",
   "execution_count": 1,
   "metadata": {
    "collapsed": false,
    "slideshow": {
     "slide_type": "-"
    }
   },
   "outputs": [
    {
     "name": "stdout",
     "output_type": "stream",
     "text": [
      "    a= 2     b= 1.5     c= (2+1.5j)     d= False\n",
      "<class 'int'>\n",
      "<class 'float'>\n",
      "<class 'complex'>\n",
      "<class 'bool'>\n"
     ]
    }
   ],
   "source": [
    "a = 2\n",
    "b = 1.5\n",
    "c = a + 1j * b\n",
    "d = a > 5\n",
    "print('    a=',a,'    b=',b,'    c=',c,'    d=',d)\n",
    "for number in a,b,c,d:\n",
    "    print(type(number))"
   ]
  },
  {
   "cell_type": "markdown",
   "metadata": {
    "slideshow": {
     "slide_type": "subslide"
    }
   },
   "source": [
    "### Strings\n",
    "There's a built-in shorthand to <font color=\"#0000FF\">**sprintf**</font>.  This Matlab command:\n",
    "\n",
    "**outstr = sprintf(<font color=\"#0000FF\">'mystr=%s, myfloat=%.2f, myint=%d'</font>, mystr, myfloat, myint);**\n",
    "\n",
    "Is accomplished in Python by:"
   ]
  },
  {
   "cell_type": "code",
   "execution_count": 40,
   "metadata": {
    "collapsed": false
   },
   "outputs": [
    {
     "name": "stdout",
     "output_type": "stream",
     "text": [
      "mystr=some chars, myfloat=3.14, myint=42\n"
     ]
    }
   ],
   "source": [
    "mystr = 'some chars'\n",
    "myfloat = 3.14159\n",
    "myint = 42\n",
    "outstr = 'mystr=%s, myfloat=%.2f, myint=%d' % (mystr, myfloat, myint)\n",
    "print(outstr)"
   ]
  },
  {
   "cell_type": "markdown",
   "metadata": {
    "slideshow": {
     "slide_type": "subslide"
    }
   },
   "source": [
    "### Four container types\n",
    "* `list`\n",
    "* `tuple`\n",
    "* `dictionary`\n",
    "* `set`"
   ]
  },
  {
   "cell_type": "markdown",
   "metadata": {
    "slideshow": {
     "slide_type": "subslide"
    }
   },
   "source": [
    "### List Example"
   ]
  },
  {
   "cell_type": "code",
   "execution_count": 2,
   "metadata": {
    "collapsed": false
   },
   "outputs": [
    {
     "name": "stdout",
     "output_type": "stream",
     "text": [
      "[2, 1.5, (2+1.5j), False, 'astring', ['g', 'h', 'i']]\n",
      "length of list = 6\n",
      "['g', 'h', 'i']\n"
     ]
    }
   ],
   "source": [
    "my_list = [a,b,c,d,'astring', ['g','h','i']]\n",
    "print(my_list)\n",
    "print('length of list =',len(my_list))\n",
    "print(my_list[5])"
   ]
  },
  {
   "cell_type": "code",
   "execution_count": 3,
   "metadata": {
    "collapsed": false,
    "slideshow": {
     "slide_type": "fragment"
    }
   },
   "outputs": [
    {
     "name": "stdout",
     "output_type": "stream",
     "text": [
      "[2, 1.5, (2+1.5j), False, 'astring']\n",
      "length of list = 5\n",
      "['g', 'h', 'i']\n",
      "[2, 1.5, (2+1.5j), False, 'astring']\n"
     ]
    }
   ],
   "source": [
    "tmp = my_list.pop() #lists are mutable or changeable\n",
    "print(my_list)\n",
    "print('length of list =',len(my_list))\n",
    "print(tmp)\n",
    "print(my_list)"
   ]
  },
  {
   "cell_type": "markdown",
   "metadata": {
    "slideshow": {
     "slide_type": "subslide"
    }
   },
   "source": [
    "### Tuple Example"
   ]
  },
  {
   "cell_type": "code",
   "execution_count": 7,
   "metadata": {
    "collapsed": false,
    "slideshow": {
     "slide_type": "-"
    }
   },
   "outputs": [
    {
     "name": "stdout",
     "output_type": "stream",
     "text": [
      "(2, 1.5, (2+1.5j), False)\n"
     ]
    }
   ],
   "source": [
    "my_tuple = (a,b,c,d)\n",
    "print(my_tuple)\n",
    "\n",
    "#That's it... it can't be changed at this point!"
   ]
  },
  {
   "cell_type": "markdown",
   "metadata": {
    "slideshow": {
     "slide_type": "subslide"
    }
   },
   "source": [
    "### Dictionary Example"
   ]
  },
  {
   "cell_type": "code",
   "execution_count": 8,
   "metadata": {
    "collapsed": false
   },
   "outputs": [
    {
     "name": "stdout",
     "output_type": "stream",
     "text": [
      "my_dictionary[ (2, 1.5, (2+1.5j), False) ] = 72\n",
      "my_dictionary[ some chars ] = test\n",
      "my_dictionary[ 99.5 ] = 48\n"
     ]
    }
   ],
   "source": [
    "my_dictionary = {} # mutable like lists, but can be \n",
    "                   # *indexed* with any *immutable* object\n",
    "my_dictionary[mystr]    = 'test' # index with string\n",
    "my_dictionary[99.5]     = 48     # index with int\n",
    "my_dictionary[my_tuple] = 72     # index with a tuple - it's immutable!\n",
    "\n",
    "# dictionaries are unordered\n",
    "# i.e., order is NOT guaranteed\n",
    "\n",
    "for k in my_dictionary.keys():\n",
    "    print('my_dictionary[ %s ] = %s' % (str(k),str(my_dictionary[k])) )"
   ]
  },
  {
   "cell_type": "markdown",
   "metadata": {
    "slideshow": {
     "slide_type": "slide"
    }
   },
   "source": [
    "Control Flow\n",
    "============\n",
    "\n",
    "Controls the order in which the code is executed.\n",
    "\n",
    "if/elif/else\n",
    "------------\n",
    "\n",
    "\n",
    "* Blocks are delimited by indentation\n",
    "* lines beginning with <font color=\"#0000FF\">**if**</font>, <font color=\"#0000FF\">**elif**</font>, or <font color=\"#0000FF\">**else**</font> should end with a colon character, <font color=\"#0000FF\">**:**</font>\n",
    "    "
   ]
  },
  {
   "cell_type": "code",
   "execution_count": 11,
   "metadata": {
    "collapsed": false
   },
   "outputs": [
    {
     "name": "stdout",
     "output_type": "stream",
     "text": [
      "The else case!\n"
     ]
    }
   ],
   "source": [
    "if 2**2 == 5:\n",
    "    print('Obvious!')\n",
    "elif 4 > 20 :\n",
    "    print('Obvious that 4 > 2!')\n",
    "else:\n",
    "    print('The else case!')"
   ]
  },
  {
   "cell_type": "markdown",
   "metadata": {
    "slideshow": {
     "slide_type": "subslide"
    }
   },
   "source": [
    "for/range\n",
    "---------"
   ]
  },
  {
   "cell_type": "code",
   "execution_count": 12,
   "metadata": {
    "collapsed": false,
    "slideshow": {
     "slide_type": "-"
    }
   },
   "outputs": [
    {
     "name": "stdout",
     "output_type": "stream",
     "text": [
      "0\n",
      "1\n",
      "2\n",
      "3\n"
     ]
    }
   ],
   "source": [
    "# Iterating with an index\n",
    "N=4\n",
    "for i in range(N):\n",
    "    print(i)"
   ]
  },
  {
   "cell_type": "code",
   "execution_count": 41,
   "metadata": {
    "collapsed": false,
    "slideshow": {
     "slide_type": "fragment"
    }
   },
   "outputs": [
    {
     "name": "stdout",
     "output_type": "stream",
     "text": [
      "Python is cool\n",
      "Python is powerful\n",
      "Python is readable\n",
      "Python is finicky (sometimes)\n"
     ]
    }
   ],
   "source": [
    "#But most often, it is more readable to iterate over values:\n",
    "for word in ('cool', 'powerful', 'readable', 'finicky (sometimes)'):\n",
    "    print('Python is %s' % word)"
   ]
  },
  {
   "cell_type": "markdown",
   "metadata": {
    "slideshow": {
     "slide_type": "subslide"
    }
   },
   "source": [
    "while/break/continue\n",
    "--------------------\n",
    "\n",
    "Typical C-style while loop:"
   ]
  },
  {
   "cell_type": "code",
   "execution_count": 14,
   "metadata": {
    "collapsed": false
   },
   "outputs": [
    {
     "name": "stdout",
     "output_type": "stream",
     "text": [
      "-100\n"
     ]
    }
   ],
   "source": [
    "z = 0\n",
    "while abs(z) < 100:\n",
    "    z = z - 1\n",
    "print(z)"
   ]
  },
  {
   "cell_type": "markdown",
   "metadata": {
    "slideshow": {
     "slide_type": "subslide"
    }
   },
   "source": [
    "**More advanced features**\n",
    "\n",
    "`break` out of enclosing for/while loop:"
   ]
  },
  {
   "cell_type": "code",
   "execution_count": 15,
   "metadata": {
    "collapsed": false
   },
   "outputs": [
    {
     "name": "stdout",
     "output_type": "stream",
     "text": [
      "z = 1\n",
      "z = 2\n",
      "z = 3\n",
      "z = 4\n"
     ]
    }
   ],
   "source": [
    "z = 0\n",
    "while z < 10:\n",
    "    z = z + 1\n",
    "    print('z =', z)\n",
    "    if z > 3:\n",
    "        break"
   ]
  },
  {
   "cell_type": "markdown",
   "metadata": {
    "slideshow": {
     "slide_type": "subslide"
    }
   },
   "source": [
    "`continue` the next iteration of a loop.:"
   ]
  },
  {
   "cell_type": "code",
   "execution_count": 16,
   "metadata": {
    "collapsed": false
   },
   "outputs": [
    {
     "name": "stdout",
     "output_type": "stream",
     "text": [
      "1 -----> 1.0\n",
      "2 -----> 0.5\n",
      "4 -----> 0.25\n"
     ]
    }
   ],
   "source": [
    "a = [1, 0, 2, 4]\n",
    "for element in a:\n",
    "    if element == 0:\n",
    "        continue\n",
    "    print(element,'----->', 1. / element)"
   ]
  },
  {
   "cell_type": "markdown",
   "metadata": {
    "slideshow": {
     "slide_type": "slide"
    }
   },
   "source": [
    "List Comprehensions\n",
    "-------------------"
   ]
  },
  {
   "cell_type": "code",
   "execution_count": 18,
   "metadata": {
    "collapsed": false
   },
   "outputs": [
    {
     "data": {
      "text/plain": [
       "[0, 1, 2, 3]"
      ]
     },
     "execution_count": 18,
     "metadata": {},
     "output_type": "execute_result"
    }
   ],
   "source": [
    "L = [0,1,2,3]\n",
    "L"
   ]
  },
  {
   "cell_type": "code",
   "execution_count": 19,
   "metadata": {
    "collapsed": false,
    "slideshow": {
     "slide_type": "-"
    }
   },
   "outputs": [
    {
     "data": {
      "text/plain": [
       "[0, 1, 4, 9]"
      ]
     },
     "execution_count": 19,
     "metadata": {},
     "output_type": "execute_result"
    }
   ],
   "source": [
    "[i**2 for i in L] "
   ]
  },
  {
   "cell_type": "code",
   "execution_count": 20,
   "metadata": {
    "collapsed": false,
    "slideshow": {
     "slide_type": "fragment"
    }
   },
   "outputs": [
    {
     "name": "stdout",
     "output_type": "stream",
     "text": [
      "[False, False, False, True]\n"
     ]
    }
   ],
   "source": [
    "is_a_num = [s.isnumeric() for s in ('cool', 'readable', 'fun', '901')]\n",
    "print(is_a_num)"
   ]
  },
  {
   "cell_type": "markdown",
   "metadata": {
    "slideshow": {
     "slide_type": "subslide"
    }
   },
   "source": [
    "**Exercise**\n",
    "\n",
    "Compute the decimals of Pi using the Wallis formula:\n",
    "\n",
    "$$\\pi = 2 \\prod_{i=1}^{\\infty} \\frac{4i^2}{4i^2 - 1}$$"
   ]
  },
  {
   "cell_type": "code",
   "execution_count": 21,
   "metadata": {
    "collapsed": false,
    "slideshow": {
     "slide_type": "fragment"
    }
   },
   "outputs": [
    {
     "name": "stdout",
     "output_type": "stream",
     "text": [
      "3.1415141108281714\n"
     ]
    }
   ],
   "source": [
    "terms = [ 4 * ii**2 / (4*(ii**2) - 1) for ii in range(1,10000,1) ]\n",
    "prod = 1\n",
    "for term in terms:\n",
    "    prod *= term\n",
    "print(2*prod)"
   ]
  },
  {
   "cell_type": "markdown",
   "metadata": {
    "slideshow": {
     "slide_type": "slide"
    }
   },
   "source": [
    "Defining functions\n",
    "==================\n",
    "\n",
    "Function definition\n",
    "-------------------\n",
    "> <span style=\"color:red\">**warning**</span>\n",
    ">\n",
    "> Function blocks must be indented just like other control-flow blocks.\n",
    "\n"
   ]
  },
  {
   "cell_type": "code",
   "execution_count": 22,
   "metadata": {
    "collapsed": false
   },
   "outputs": [
    {
     "name": "stdout",
     "output_type": "stream",
     "text": [
      "in test function:  17\n",
      "in test function:  [1, 2, 3]\n"
     ]
    }
   ],
   "source": [
    "def test(in1): #define the function\n",
    "    print('in test function: ', in1)\n",
    "\n",
    "test(17) #call the function\n",
    "test([1,2,3])"
   ]
  },
  {
   "cell_type": "markdown",
   "metadata": {
    "slideshow": {
     "slide_type": "subslide"
    }
   },
   "source": [
    "## Return statement\n",
    "Functions can *optionally* return values.\n",
    "\n",
    "By default, functions return `None`.\n",
    "\n",
    "Note the syntax to define a function:"
   ]
  },
  {
   "cell_type": "code",
   "execution_count": 24,
   "metadata": {
    "collapsed": false,
    "slideshow": {
     "slide_type": "-"
    }
   },
   "outputs": [
    {
     "name": "stdout",
     "output_type": "stream",
     "text": [
      "9\n",
      "HelloPeople!\n"
     ]
    }
   ],
   "source": [
    "def plus_fxn( arg1, arg2 ):\n",
    "    return arg1 + arg2\n",
    "\n",
    "print(plus_fxn(4,5))\n",
    "print(plus_fxn('Hello', 'People!'))"
   ]
  },
  {
   "cell_type": "code",
   "execution_count": 83,
   "metadata": {
    "collapsed": false,
    "slideshow": {
     "slide_type": "skip"
    }
   },
   "outputs": [
    {
     "data": {
      "text/plain": [
       "7.0649999999999995"
      ]
     },
     "execution_count": 83,
     "metadata": {},
     "output_type": "execute_result"
    }
   ],
   "source": [
    "def disk_area(radius):\n",
    "    return 3.14 * radius * radius\n",
    "   \n",
    "disk_area(1.5)"
   ]
  },
  {
   "cell_type": "markdown",
   "metadata": {
    "slideshow": {
     "slide_type": "subslide"
    }
   },
   "source": [
    "### Mandatory and Optional args\n",
    "\n",
    "- Positional arguments (<font color=\"#0000FF\">**mandatory**</font>)\n",
    "- Keyword arguments (<font color=\"#0000FF\">**optional**</font>)\n",
    "- Keyword arguments allow you to specify <font color=\"#0000FF\">*default values*</font>.\n",
    "\n",
    "*Keyword arguments* are a very convenient feature for defining functions\n",
    "with a variable number of arguments, \n",
    "- especially when default values are to be used in most calls to the function.\n",
    "\n",
    "<!--\n",
    "> **warning**\n",
    ">\n",
    "> Default values are evaluated when the function is defined, not when it\n",
    "> is called. This can be problematic when using mutable types (e.g.\n",
    "> dictionary or list) and modifying them in the function body, since the\n",
    "> modifications will be persistent across invocations of the function.\n",
    ">\n",
    "> Using an immutable type in a keyword argument:\n",
    ">\n",
    "> Using an mutable type in a keyword argument (and modifying it inside\n",
    "> the function body):\n",
    "\n",
    "> **tip**\n",
    ">\n",
    "> More involved example implementing python's slicing:\n",
    ">\n",
    "> The order of the keyword arguments does not matter:\n",
    ">\n",
    "> but it is good practice to use the same ordering as the function's\n",
    "> definition.\n",
    "-->\n",
    "\n"
   ]
  },
  {
   "cell_type": "code",
   "execution_count": 25,
   "metadata": {
    "collapsed": false
   },
   "outputs": [
    {
     "name": "stdout",
     "output_type": "stream",
     "text": [
      "6\n"
     ]
    }
   ],
   "source": [
    "# Positional argument\n",
    "def double_it(x):\n",
    "    return x * 2\n",
    "print(double_it(3))"
   ]
  },
  {
   "cell_type": "code",
   "execution_count": 26,
   "metadata": {
    "collapsed": false,
    "slideshow": {
     "slide_type": "subslide"
    }
   },
   "outputs": [
    {
     "ename": "TypeError",
     "evalue": "double_it() missing 1 required positional argument: 'x'",
     "output_type": "error",
     "traceback": [
      "\u001b[1;31m---------------------------------------------------------------------------\u001b[0m",
      "\u001b[1;31mTypeError\u001b[0m                                 Traceback (most recent call last)",
      "\u001b[1;32m<ipython-input-26-a3b952ee31dd>\u001b[0m in \u001b[0;36m<module>\u001b[1;34m()\u001b[0m\n\u001b[1;32m----> 1\u001b[1;33m \u001b[0mprint\u001b[0m\u001b[1;33m(\u001b[0m\u001b[0mdouble_it\u001b[0m\u001b[1;33m(\u001b[0m\u001b[1;33m)\u001b[0m\u001b[1;33m)\u001b[0m\u001b[1;33m\u001b[0m\u001b[0m\n\u001b[0m",
      "\u001b[1;31mTypeError\u001b[0m: double_it() missing 1 required positional argument: 'x'"
     ]
    }
   ],
   "source": [
    "print(double_it())"
   ]
  },
  {
   "cell_type": "code",
   "execution_count": 27,
   "metadata": {
    "collapsed": false,
    "slideshow": {
     "slide_type": "fragment"
    }
   },
   "outputs": [
    {
     "name": "stdout",
     "output_type": "stream",
     "text": [
      "6\n",
      "18\n"
     ]
    }
   ],
   "source": [
    "# Now with a keywrd argument\n",
    "def double_it(x=9):\n",
    "    return x * 2\n",
    "print(double_it(3))\n",
    "print(double_it())"
   ]
  },
  {
   "cell_type": "markdown",
   "metadata": {
    "slideshow": {
     "slide_type": "subslide"
    }
   },
   "source": [
    "Passing by reference (cautionary note!)\n",
    "----------------\n",
    "\n",
    "- Arguments to functions are references to objects \n",
    "- When you pass a variable to a function, python passes the reference or the 'pointer' to the object \n",
    "- <font color=\"#FF0000\">** Not the variable itself. **</font>\n",
    "\n",
    "If the <font color=\"#0000FF\">**value**</font> passed in a function is immutable, the function does\n",
    "not modify the caller's variable. If the <font color=\"#0000FF\">**value**</font> is mutable, the\n",
    "function <font color=\"#FF0000\">***may***</font> modify the caller's variable in-place:"
   ]
  },
  {
   "cell_type": "code",
   "execution_count": 30,
   "metadata": {
    "collapsed": true,
    "slideshow": {
     "slide_type": "subslide"
    }
   },
   "outputs": [],
   "source": [
    "def try_to_modify(arg1, arg2, arg3):\n",
    "    arg1 = 23\n",
    "    arg2.append(42)\n",
    "    arg3 = [142] # new reference\n",
    "    "
   ]
  },
  {
   "cell_type": "code",
   "execution_count": 31,
   "metadata": {
    "collapsed": false
   },
   "outputs": [
    {
     "name": "stdout",
     "output_type": "stream",
     "text": [
      "77\n",
      "[99, 100]\n",
      "[28, 29]\n"
     ]
    }
   ],
   "source": [
    "a = 77        # immutable variable\n",
    "b = [99,100]  # mutable variable\n",
    "c = [28,29]\n",
    "\n",
    "for var in (a,b,c): \n",
    "    print(var)"
   ]
  },
  {
   "cell_type": "code",
   "execution_count": 33,
   "metadata": {
    "collapsed": false,
    "slideshow": {
     "slide_type": "fragment"
    }
   },
   "outputs": [
    {
     "name": "stdout",
     "output_type": "stream",
     "text": [
      "77\n",
      "[99, 100, 42, 42]\n",
      "[28, 29]\n"
     ]
    }
   ],
   "source": [
    "try_to_modify(a, b, c)\n",
    "for var in (a,b,c): \n",
    "    print(var)"
   ]
  },
  {
   "cell_type": "markdown",
   "metadata": {
    "slideshow": {
     "slide_type": "skip"
    }
   },
   "source": [
    "Local/Global Functions\n",
    "\n",
    "<!-- Functions have a local variable table called a *local namespace*.\n",
    "\n",
    "The variable `x` only exists within the function `try_to_modify`.\n",
    "\n",
    "Global variables\n",
    "----------------\n",
    "\n",
    "Variables declared outside the function can be referenced within the\n",
    "function:\n",
    "\n",
    "But these \"global\" variables cannot be modified within the function,\n",
    "unless declared **global** in the function.\n",
    "\n",
    "This doesn't work:\n",
    "\n",
    "This works:\n",
    "\n",
    "Variable number of parameters\n",
    "-----------------------------\n",
    "\n",
    "Special forms of parameters:\n",
    "\n",
    ":   -   `*args`: any number of positional arguments packed into a tuple\n",
    "    -   `**kwargs`: any number of keyword arguments packed into a\n",
    "        dictionary\n",
    "\n",
    "Docstrings\n",
    "----------\n",
    "\n",
    "Documentation about what the function does and its parameters. General\n",
    "convention:\n",
    "\n",
    "> **note**\n",
    ">\n",
    "> **Docstring guidelines**\n",
    ">\n",
    "> For the sake of standardization, the [Docstring\n",
    "> Conventions](https://www.python.org/dev/peps/pep-0257) webpage\n",
    "> documents the semantics and conventions associated with Python\n",
    "> docstrings.\n",
    ">\n",
    "> Also, the Numpy and Scipy modules have defined a precise standard for\n",
    "> documenting scientific functions, that you may want to follow for your\n",
    "> own functions, with a `Parameters` section, an `Examples` section,\n",
    "> etc. See\n",
    "> <http://projects.scipy.org/numpy/wiki/CodingStyleGuidelines#docstring-standard>\n",
    "> and <http://projects.scipy.org/numpy/browser/trunk/doc/example.py#L37>\n",
    "\n",
    "Functions are objects\n",
    "---------------------\n",
    "\n",
    "Functions are first-class objects, which means they can be:\n",
    "\n",
    ":   -   assigned to a variable\n",
    "    -   an item in a list (or any collection)\n",
    "    -   passed as an argument to another function.\n",
    "\n",
    "Methods\n",
    "-------\n",
    "\n",
    "Methods are functions attached to objects. You've seen these in our\n",
    "examples on *lists*, *dictionaries*, *strings*, etc...\n",
    "\n",
    "Exercises\n",
    "---------\n",
    "\n",
    "**Exercise: Fibonacci sequence**\n",
    "\n",
    "Write a function that displays the `n` first terms of the Fibonacci\n",
    "sequence, defined by:\n",
    "\n",
    "-   `u_0 = 1; u_1 = 1`\n",
    "-   `u_(n+2) = u_(n+1) + u_n`\n",
    "\n",
    "**Exercise: Quicksort**\n",
    "\n",
    "Implement the quicksort algorithm, as defined by wikipedia\n",
    "-->"
   ]
  },
  {
   "cell_type": "markdown",
   "metadata": {
    "slideshow": {
     "slide_type": "subslide"
    }
   },
   "source": [
    "Working with text files for Input and Output\n",
    "================\n",
    "Reading a file, line by line:"
   ]
  },
  {
   "cell_type": "code",
   "execution_count": 35,
   "metadata": {
    "collapsed": false
   },
   "outputs": [
    {
     "name": "stdout",
     "output_type": "stream",
     "text": [
      "line --> 1. I could hear another conversation through the cordless phone.\n",
      "line --> 2. She relied on him for transportation.\n",
      "line --> 3. He was an ordinary person who did extraordinary things.\n",
      "line --> 4. How long has this been going on?\n",
      "line --> 5. His class was on Saturday.\n"
     ]
    }
   ],
   "source": [
    "with open('my_file.txt') as my_file:\n",
    "    for line in my_file:\n",
    "        print('line -->',line.strip())"
   ]
  },
  {
   "cell_type": "markdown",
   "metadata": {
    "slideshow": {
     "slide_type": "slide"
    }
   },
   "source": [
    "Object-oriented programming (OOP)\n",
    "=================================\n",
    "\n",
    "Python supports object-oriented programming (OOP) using classes\n",
    "\n",
    "Here is a small example: we create a Student *class*, which is an object\n",
    "gathering several custom functions (*methods*) and variables\n",
    "(*attributes*), we will be able to use:"
   ]
  },
  {
   "cell_type": "code",
   "execution_count": 37,
   "metadata": {
    "collapsed": false,
    "slideshow": {
     "slide_type": "subslide"
    }
   },
   "outputs": [
    {
     "name": "stdout",
     "output_type": "stream",
     "text": [
      "Anna 21 physics\n"
     ]
    }
   ],
   "source": [
    "# class example\n",
    "class Student(object):\n",
    "    def __init__(self, name):\n",
    "        self.name = name\n",
    "    def set_age(self, age):\n",
    "        self.age = age\n",
    "    def set_major(self, major):\n",
    "        self.major = major\n",
    "\n",
    "anna = Student('Anna')\n",
    "anna.set_age(21)\n",
    "anna.set_major('physics')\n",
    "print( anna.name , anna.age , anna.major )"
   ]
  },
  {
   "cell_type": "markdown",
   "metadata": {
    "slideshow": {
     "slide_type": "subslide"
    }
   },
   "source": [
    "In the previous example, the Student class has the following methods\n",
    "- `__init__` \n",
    "- `set_age` \n",
    "- `set_major` \n",
    "\n",
    "The attributes are \n",
    "- `name`\n",
    "- `age` \n",
    "- `major`\n",
    "\n",
    "<!--\n",
    "can call these methods and attributes with the following notation:\n",
    "`classinstance.method` or `classinstance.attribute`. \n",
    "The `__init__` constructor is a special method we call with:\n",
    "`MyClass(init parameters if any)`. \n",
    "-->"
   ]
  },
  {
   "cell_type": "markdown",
   "metadata": {
    "slideshow": {
     "slide_type": "subslide"
    }
   },
   "source": [
    "Now, suppose we want to create a new class MasterStudent with the same\n",
    "methods and attributes as the previous one, but with an additional\n",
    "`internship` attribute. We won't copy the previous class, but\n",
    "**inherit** from it:"
   ]
  },
  {
   "cell_type": "code",
   "execution_count": 43,
   "metadata": {
    "collapsed": false
   },
   "outputs": [
    {
     "name": "stdout",
     "output_type": "stream",
     "text": [
      "mandatory, from March to June\n",
      "23\n"
     ]
    }
   ],
   "source": [
    "class MasterStudent(Student):\n",
    "    internship = 'mandatory, from March to June'\n",
    "\n",
    "james = MasterStudent('James')\n",
    "print( james.internship )\n",
    "\n",
    "james.set_age(23)\n",
    "print( james.age )\n",
    "\n",
    "# The MasterStudent class inherited from the Student attributes \n",
    "# and methods."
   ]
  }
 ],
 "metadata": {
  "celltoolbar": "Slideshow",
  "kernelspec": {
   "display_name": "Python 3",
   "language": "python",
   "name": "python3"
  },
  "language_info": {
   "codemirror_mode": {
    "name": "ipython",
    "version": 3
   },
   "file_extension": ".py",
   "mimetype": "text/x-python",
   "name": "python",
   "nbconvert_exporter": "python",
   "pygments_lexer": "ipython3",
   "version": "3.5.1"
  }
 },
 "nbformat": 4,
 "nbformat_minor": 0
}
