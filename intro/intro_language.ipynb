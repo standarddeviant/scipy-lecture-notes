{
 "cells": [
  {
   "cell_type": "code",
   "execution_count": 1,
   "metadata": {
    "collapsed": false
   },
   "outputs": [
    {
     "name": "stdout",
     "output_type": "stream",
     "text": [
      "Interactive namespace is empty.\n"
     ]
    }
   ],
   "source": [
    "whos"
   ]
  },
  {
   "cell_type": "markdown",
   "metadata": {
    "slideshow": {
     "slide_type": "skip"
    }
   },
   "source": [
    "First steps\n",
    "===========\n",
    "\n",
    "Start the **Ipython** shell (an enhanced interactive Python shell):\n",
    "\n",
    "-   by typing \"ipython\" from a Linux/Mac terminal, or from the Windows\n",
    "    cmd shell,\n",
    "-   **or** by starting the program from a menu, e.g. in the\n",
    "    [Python(x,y)](http://www.pythonxy.com/) or\n",
    "    [EPD](http://store.enthought.com/) menu if you have installed one of\n",
    "    these scientific-Python suites.\n",
    "\n",
    "> **tip**\n",
    ">\n",
    "> If you don't have Ipython installed on your computer, other Python\n",
    "> shells are available, such as the plain Python shell started by typing\n",
    "> \"python\" in a terminal, or the Idle interpreter. However, we advise to\n",
    "> use the Ipython shell because of its enhanced features, especially for\n",
    "> interactive scientific computing.\n",
    "\n",
    "Once you have started the interpreter, type :\n",
    "\n",
    "    >>> print(\"Hello, world!\")\n",
    "    Hello, world!\n",
    "\n",
    "> **tip**\n",
    ">\n",
    "> The message \"Hello, world!\" is then displayed. You just executed your\n",
    "> first Python instruction, congratulations!\n",
    "\n",
    "To get yourself started, type the following stack of instructions :\n",
    "\n",
    "    >>> a = 3\n",
    "    >>> b = 2*a\n",
    "    >>> type(b)     # doctest: +SKIP\n",
    "    <type 'int'>\n",
    "    >>> print(b)\n",
    "    6\n",
    "    >>> a*b \n",
    "    18\n",
    "    >>> b = 'hello' \n",
    "    >>> type(b)    # doctest: +SKIP\n",
    "    <type 'str'>\n",
    "    >>> b + b\n",
    "    'hellohello'\n",
    "    >>> 2*b\n",
    "    'hellohello'\n",
    "\n",
    "> **tip**\n",
    ">\n",
    "> Two variables `a` and `b` have been defined above. Note that one does\n",
    "> not declare the type of a variable before assigning its value. In C,\n",
    "> conversely, one should write:\n",
    ">\n",
    "> In addition, the type of a variable may change, in the sense that at\n",
    "> one point in time it can be equal to a value of a certain type, and a\n",
    "> second point in time, it can be equal to a value of a different type.\n",
    "> b was first equal to an integer, but it became equal to a string when\n",
    "> it was assigned the value 'hello'. Operations on integers (`b=2*a`)\n",
    "> are coded natively in Python, and so are some operations on strings\n",
    "> such as additions and multiplications, which amount respectively to\n",
    "> concatenation and repetition."
   ]
  },
  {
   "cell_type": "markdown",
   "metadata": {
    "slideshow": {
     "slide_type": "slide"
    }
   },
   "source": [
    "# Interesting Data Types\n",
    "### Four numerical types\n",
    "* `int`\n",
    "* `float`\n",
    "* `complex`\n",
    "* `booleans`"
   ]
  },
  {
   "cell_type": "code",
   "execution_count": 2,
   "metadata": {
    "collapsed": false,
    "slideshow": {
     "slide_type": "-"
    }
   },
   "outputs": [
    {
     "name": "stdout",
     "output_type": "stream",
     "text": [
      "    a= 2     b= 1.5     c= (2+1.5j)     d= False\n"
     ]
    }
   ],
   "source": [
    "a = 2\n",
    "b = 1.5\n",
    "c = a + 1j * b\n",
    "d = a > 5\n",
    "print('    a=',a,'    b=',b,'    c=',c,'    d=',d)"
   ]
  },
  {
   "cell_type": "markdown",
   "metadata": {
    "slideshow": {
     "slide_type": "subslide"
    }
   },
   "source": [
    "### Strings\n",
    "There's a built-in shorthand to <font color=\"#0000FF\">**sprintf**</font>.  This Matlab command:\n",
    "\n",
    "**outstr = sprintf(<font color=\"#0000FF\">'mystr=%s, myfloat=%.2f, myint=%d'</font>, mystr, myfloat, myint);**\n",
    "\n",
    "Is accomplished in Python by:"
   ]
  },
  {
   "cell_type": "code",
   "execution_count": 8,
   "metadata": {
    "collapsed": false
   },
   "outputs": [
    {
     "name": "stdout",
     "output_type": "stream",
     "text": [
      "mystr=some chars, myfloat=3.14, myint=42\n"
     ]
    }
   ],
   "source": [
    "mystr = 'some chars'\n",
    "myfloat = 3.14159\n",
    "myint = 42\n",
    "outstr = 'mystr=%s, myfloat=%.2f, myint=%d' % (mystr, myfloat, myint)\n",
    "print(outstr)"
   ]
  },
  {
   "cell_type": "markdown",
   "metadata": {
    "slideshow": {
     "slide_type": "subslide"
    }
   },
   "source": [
    "### Four container types\n",
    "* `list`\n",
    "* `tuple`\n",
    "* `dictionary`\n",
    "* `set`"
   ]
  },
  {
   "cell_type": "markdown",
   "metadata": {
    "slideshow": {
     "slide_type": "subslide"
    }
   },
   "source": [
    "### List Example"
   ]
  },
  {
   "cell_type": "code",
   "execution_count": 4,
   "metadata": {
    "collapsed": false
   },
   "outputs": [
    {
     "name": "stdout",
     "output_type": "stream",
     "text": [
      "[2, 1.5, (2+1.5j), False, 'astring', ['g', 'h', 'i']]\n",
      "length of list = 6\n"
     ]
    }
   ],
   "source": [
    "my_list = [a,b,c,d,'astring', ['g','h','i']]\n",
    "print(my_list)\n",
    "print('length of list =',len(my_list))"
   ]
  },
  {
   "cell_type": "code",
   "execution_count": 5,
   "metadata": {
    "collapsed": false,
    "slideshow": {
     "slide_type": "fragment"
    }
   },
   "outputs": [
    {
     "name": "stdout",
     "output_type": "stream",
     "text": [
      "[2, 1.5, (2+1.5j), False, 'astring']\n",
      "length of list = 5\n",
      "['g', 'h', 'i']\n"
     ]
    }
   ],
   "source": [
    "tmp = my_list.pop() #lists are mutable or changeable\n",
    "print(my_list)\n",
    "print('length of list =',len(my_list))\n",
    "print(tmp)"
   ]
  },
  {
   "cell_type": "markdown",
   "metadata": {
    "slideshow": {
     "slide_type": "subslide"
    }
   },
   "source": [
    "### Tuple Example"
   ]
  },
  {
   "cell_type": "code",
   "execution_count": 7,
   "metadata": {
    "collapsed": false,
    "slideshow": {
     "slide_type": "-"
    }
   },
   "outputs": [
    {
     "name": "stdout",
     "output_type": "stream",
     "text": [
      "(2, 1.5, (2+1.5j), False)\n"
     ]
    }
   ],
   "source": [
    "my_tuple = (a,b,c,d)\n",
    "print(my_tuple)\n",
    "\n",
    "#That's it... it can't be changed at this point!"
   ]
  },
  {
   "cell_type": "markdown",
   "metadata": {
    "slideshow": {
     "slide_type": "subslide"
    }
   },
   "source": [
    "### Dictionary Example"
   ]
  },
  {
   "cell_type": "code",
   "execution_count": 20,
   "metadata": {
    "collapsed": false
   },
   "outputs": [
    {
     "name": "stdout",
     "output_type": "stream",
     "text": [
      "{(2, 1.5, (2+1.5j), False): 72, 99.5: 48, 'some chars': 'test'}\n",
      "my_dictionary[ (2, 1.5, (2+1.5j), False) ] = 72\n",
      "my_dictionary[ 99.5 ] = 48\n",
      "my_dictionary[ some chars ] = test\n"
     ]
    }
   ],
   "source": [
    "my_dictionary = {} # mutable like lists, but can be *indexed* with any *immutable* object\n",
    "my_dictionary[mystr]    = 'test' # index with string\n",
    "my_dictionary[99.5]     = 48     # index with int\n",
    "my_dictionary[my_tuple] = 72     # index with a tuple - it's immutable!\n",
    "\n",
    "print(my_dictionary) \n",
    "# dictionaries are unordered\n",
    "# i.e. order is NOT guaranteed\n",
    "\n",
    "for k in my_dictionary.keys():\n",
    "    print('my_dictionary[ %s ] = %s' % (str(k),str(my_dictionary[k])) )"
   ]
  },
  {
   "cell_type": "markdown",
   "metadata": {
    "slideshow": {
     "slide_type": "slide"
    }
   },
   "source": [
    "Control Flow\n",
    "============\n",
    "\n",
    "Controls the order in which the code is executed.\n",
    "\n",
    "if/elif/else\n",
    "------------\n",
    "\n",
    "\n",
    "* Blocks are delimited by indentation\n",
    "* lines beginning with <font color=\"#0000FF\">**if**</font>, <font color=\"#0000FF\">**elif**</font>, or <font color=\"#0000FF\">**else**</font> should end with a colon character, <font color=\"#0000FF\">**:**</font>\n",
    "    "
   ]
  },
  {
   "cell_type": "code",
   "execution_count": 17,
   "metadata": {
    "collapsed": false
   },
   "outputs": [
    {
     "name": "stdout",
     "output_type": "stream",
     "text": [
      "The else case!\n"
     ]
    }
   ],
   "source": [
    "if 2**2 == 5:\n",
    "    print('Obvious!')\n",
    "elif 4 > 20 :\n",
    "    print('Obvious that 4 > 2!')\n",
    "else:\n",
    "    print('The else case!')"
   ]
  },
  {
   "cell_type": "markdown",
   "metadata": {
    "slideshow": {
     "slide_type": "subslide"
    }
   },
   "source": [
    "<!-- Type the following lines in your Python interpreter, and be careful to\n",
    "> **respect the indentation depth**. The Ipython shell automatically\n",
    "> increases the indentation depth after a column `:` sign; to decrease\n",
    "> the indentation depth, go four spaces to the left with the Backspace\n",
    "> key. Press the Enter key twice to leave the logical block. \n",
    "\n",
    "Indentation is compulsory in scripts as well. As an exercise, re-type\n",
    "the previous lines with the same indentation in a script `condition.py`,\n",
    "and execute the script with `run condition.py` in Ipython.\n",
    "-->\n",
    "for/range\n",
    "---------"
   ]
  },
  {
   "cell_type": "code",
   "execution_count": 18,
   "metadata": {
    "collapsed": false,
    "slideshow": {
     "slide_type": "-"
    }
   },
   "outputs": [
    {
     "name": "stdout",
     "output_type": "stream",
     "text": [
      "0\n",
      "1\n",
      "2\n",
      "3\n"
     ]
    }
   ],
   "source": [
    "# Iterating with an index\n",
    "for i in range(4):\n",
    "    print(i)"
   ]
  },
  {
   "cell_type": "code",
   "execution_count": 22,
   "metadata": {
    "collapsed": false,
    "slideshow": {
     "slide_type": "fragment"
    }
   },
   "outputs": [
    {
     "name": "stdout",
     "output_type": "stream",
     "text": [
      "Python is cool\n",
      "Python is powerful\n",
      "Python is readable\n",
      "Python is finnicky (sometimes)\n"
     ]
    }
   ],
   "source": [
    "#But most often, it is more readable to iterate over values:\n",
    "for word in ('cool', 'powerful', 'readable', 'finnicky (sometimes)'):\n",
    "    print('Python is %s' % word)"
   ]
  },
  {
   "cell_type": "markdown",
   "metadata": {
    "slideshow": {
     "slide_type": "subslide"
    }
   },
   "source": [
    "while/break/continue\n",
    "--------------------\n",
    "\n",
    "Typical C-style while loop (Mandelbrot problem):"
   ]
  },
  {
   "cell_type": "code",
   "execution_count": 24,
   "metadata": {
    "collapsed": false
   },
   "outputs": [
    {
     "data": {
      "text/plain": [
       "-100"
      ]
     },
     "execution_count": 24,
     "metadata": {},
     "output_type": "execute_result"
    }
   ],
   "source": [
    "z = 0\n",
    "while abs(z) < 100:\n",
    "    z = z - 1\n",
    "z"
   ]
  },
  {
   "cell_type": "markdown",
   "metadata": {
    "slideshow": {
     "slide_type": "subslide"
    }
   },
   "source": [
    "**More advanced features**\n",
    "\n",
    "`break` out of enclosing for/while loop:"
   ]
  },
  {
   "cell_type": "code",
   "execution_count": 44,
   "metadata": {
    "collapsed": false
   },
   "outputs": [
    {
     "name": "stdout",
     "output_type": "stream",
     "text": [
      "z = (2+2j)\n",
      "z = (3+3j)\n",
      "z = (4+4j)\n",
      "z = (5+5j)\n"
     ]
    }
   ],
   "source": [
    "z = 1 + 1j\n",
    "while z.imag < 10:\n",
    "    z = z + (1 + 1j)\n",
    "    \n",
    "    if z.imag > 5:\n",
    "        break\n",
    "        \n",
    "    print('z =', z)"
   ]
  },
  {
   "cell_type": "markdown",
   "metadata": {
    "slideshow": {
     "slide_type": "subslide"
    }
   },
   "source": [
    "`continue` the next iteration of a loop.:"
   ]
  },
  {
   "cell_type": "code",
   "execution_count": 45,
   "metadata": {
    "collapsed": false
   },
   "outputs": [
    {
     "name": "stdout",
     "output_type": "stream",
     "text": [
      "1 -----> 1.0\n",
      "2 -----> 0.5\n",
      "4 -----> 0.25\n"
     ]
    }
   ],
   "source": [
    "a = [1, 0, 2, 4]\n",
    "for element in a:\n",
    "    if element == 0:\n",
    "        continue\n",
    "    print(element,'----->', 1. / element)"
   ]
  },
  {
   "cell_type": "markdown",
   "metadata": {
    "slideshow": {
     "slide_type": "slide"
    }
   },
   "source": [
    "<!--\n",
    "Conditional Expressions\n",
    "-----------------------\n",
    "\n",
    "`if <OBJECT>`\n",
    "\n",
    ":   \n",
    "\n",
    "> Evaluates to False:\n",
    ">\n",
    "> :   -   any number equal to zero (0, 0.0, 0+0j)\n",
    ">     -   an empty container (list, tuple, set, dictionary, ...)\n",
    ">     -   `False`, `None`\n",
    ">\n",
    "> Evaluates to True:\n",
    ">\n",
    "> :   -   everything else\n",
    ">\n",
    "`a == b`\n",
    "\n",
    ":   \n",
    "\n",
    "> Tests equality, with logics:\n",
    ">\n",
    ">     >>> 1 == 1.\n",
    ">     True\n",
    "\n",
    "`a is b`\n",
    "\n",
    ":   \n",
    "\n",
    "> Tests identity: both sides are the same object:\n",
    ">\n",
    ">     >>> 1 is 1.\n",
    ">     False\n",
    ">\n",
    ">     >>> a = 1\n",
    ">     >>> b = 1\n",
    ">     >>> a is b\n",
    ">     True\n",
    "\n",
    "`a in b`\n",
    "\n",
    ":   \n",
    "\n",
    "> For any collection `b`: `b` contains `a` :\n",
    ">\n",
    ">     >>> b = [1, 2, 3]\n",
    ">     >>> 2 in b\n",
    ">     True\n",
    ">     >>> 5 in b\n",
    ">     False\n",
    ">\n",
    "> If `b` is a dictionary, this tests that `a` is a key of `b`.\n",
    "\n",
    "Advanced iteration\n",
    "------------------\n",
    "\n",
    "### Iterate over any *sequence*\n",
    "\n",
    "You can iterate over any sequence (string, list, keys in a dictionary,\n",
    "lines in a file, ...):\n",
    "\n",
    "    >>> vowels = 'aeiouy'\n",
    "\n",
    "    >>> for i in 'powerful':\n",
    "    ...     if i in vowels:\n",
    "    ...         print(i)\n",
    "    o\n",
    "    e\n",
    "    u\n",
    "\n",
    "    >>> message = \"Hello how are you?\"\n",
    "    >>> message.split() # returns a list\n",
    "    ['Hello', 'how', 'are', 'you?']\n",
    "    >>> for word in message.split():\n",
    "    ...     print(word)\n",
    "    ...\n",
    "    Hello\n",
    "    how\n",
    "    are\n",
    "    you?\n",
    "\n",
    "> **tip**\n",
    ">\n",
    "> Few languages (in particular, languages for scientific computing)\n",
    "> allow to loop over anything but integers/indices. With Python it is\n",
    "> possible to loop exactly over the objects of interest without\n",
    "> bothering with indices you often don't care about. This feature can\n",
    "> often be used to make code more readable.\n",
    "\n",
    "> **warning**\n",
    ">\n",
    "> Not safe to modify the sequence you are iterating over.\n",
    "\n",
    "### Keeping track of enumeration number\n",
    "\n",
    "Common task is to iterate over a sequence while keeping track of the\n",
    "item number.\n",
    "\n",
    "-   Could use while loop with a counter as above. Or a for loop:\n",
    "\n",
    "        >>> words = ('cool', 'powerful', 'readable')\n",
    "        >>> for i in range(0, len(words)):\n",
    "        ...     print((i, words[i]))\n",
    "        (0, 'cool')\n",
    "        (1, 'powerful')\n",
    "        (2, 'readable')\n",
    "\n",
    "-   But, Python provides a built-in function - `enumerate` - for this:\n",
    "\n",
    "        >>> for index, item in enumerate(words):\n",
    "        ...     print((index, item))\n",
    "        (0, 'cool')\n",
    "        (1, 'powerful')\n",
    "        (2, 'readable')\n",
    "\n",
    "### Looping over a dictionary\n",
    "\n",
    "Use **items**:\n",
    "\n",
    "    >>> d = {'a': 1, 'b':1.2, 'c':1j}\n",
    "\n",
    "    >>> for key, val in sorted(d.items()):\n",
    "    ...     print('Key: %s has value: %s' % (key, val))\n",
    "    Key: a has value: 1\n",
    "    Key: b has value: 1.2\n",
    "    Key: c has value: 1j\n",
    "\n",
    "> **note**\n",
    ">\n",
    "> The ordering of a dictionary in random, thus we use sorted which will\n",
    "> sort on the keys.\n",
    "-->\n",
    "List Comprehensions\n",
    "-------------------"
   ]
  },
  {
   "cell_type": "code",
   "execution_count": 41,
   "metadata": {
    "collapsed": false
   },
   "outputs": [
    {
     "name": "stdout",
     "output_type": "stream",
     "text": [
      "[0, 1, 2, 3]\n"
     ]
    }
   ],
   "source": [
    "print(list(range(4)))"
   ]
  },
  {
   "cell_type": "code",
   "execution_count": 43,
   "metadata": {
    "collapsed": false,
    "slideshow": {
     "slide_type": "-"
    }
   },
   "outputs": [
    {
     "name": "stdout",
     "output_type": "stream",
     "text": [
      "[0, 1, 4, 9]\n"
     ]
    }
   ],
   "source": [
    "print([i**2 for i in range(4)])"
   ]
  },
  {
   "cell_type": "code",
   "execution_count": 51,
   "metadata": {
    "collapsed": false,
    "slideshow": {
     "slide_type": "fragment"
    }
   },
   "outputs": [
    {
     "name": "stdout",
     "output_type": "stream",
     "text": [
      "[False, False, False, True]\n"
     ]
    }
   ],
   "source": [
    "print([s.isnumeric() for s in ('cool', 'readable', 'fun', '901')])"
   ]
  },
  {
   "cell_type": "markdown",
   "metadata": {
    "slideshow": {
     "slide_type": "subslide"
    }
   },
   "source": [
    "**Exercise**\n",
    "\n",
    "Compute the decimals of Pi using the Wallis formula:\n",
    "\n",
    "$$\\pi = 2 \\prod_{i=1}^{\\infty} \\frac{4i^2}{4i^2 - 1}$$"
   ]
  },
  {
   "cell_type": "code",
   "execution_count": 79,
   "metadata": {
    "collapsed": false,
    "slideshow": {
     "slide_type": "fragment"
    }
   },
   "outputs": [
    {
     "name": "stdout",
     "output_type": "stream",
     "text": [
      "3.1415141108281714\n"
     ]
    }
   ],
   "source": [
    "terms = [ 4 * ii**2 / (4*(ii**2) - 1) for ii in range(1,10000,1) ]\n",
    "prod = 1\n",
    "for term in terms:\n",
    "    prod *= term\n",
    "print(2*prod)"
   ]
  },
  {
   "cell_type": "markdown",
   "metadata": {
    "slideshow": {
     "slide_type": "slide"
    }
   },
   "source": [
    "Defining functions\n",
    "==================\n",
    "\n",
    "Function definition\n",
    "-------------------\n",
    "> **warning**\n",
    ">\n",
    "> Function blocks must be indented just like other control-flow blocks.\n",
    "\n"
   ]
  },
  {
   "cell_type": "code",
   "execution_count": 52,
   "metadata": {
    "collapsed": false
   },
   "outputs": [
    {
     "name": "stdout",
     "output_type": "stream",
     "text": [
      "in test function: 17\n"
     ]
    }
   ],
   "source": [
    "def test(in1): #define the function\n",
    "    print('in test function: ' + str(in1))\n",
    "\n",
    "test(17) #call the function\n"
   ]
  },
  {
   "cell_type": "markdown",
   "metadata": {
    "slideshow": {
     "slide_type": "subslide"
    }
   },
   "source": [
    "Return statement\n",
    "----------------\n",
    "\n",
    "Functions can *optionally* return values.\n",
    "\n",
    "By default, functions return `None`.\n",
    "\n",
    "Note the syntax to define a function:"
   ]
  },
  {
   "cell_type": "code",
   "execution_count": 88,
   "metadata": {
    "collapsed": true,
    "slideshow": {
     "slide_type": "-"
    }
   },
   "outputs": [],
   "source": [
    "def fxn_name( arg1, arg2 ):\n",
    "    return arg1 + arg2\n"
   ]
  },
  {
   "cell_type": "code",
   "execution_count": 83,
   "metadata": {
    "collapsed": false,
    "slideshow": {
     "slide_type": "skip"
    }
   },
   "outputs": [
    {
     "data": {
      "text/plain": [
       "7.0649999999999995"
      ]
     },
     "execution_count": 83,
     "metadata": {},
     "output_type": "execute_result"
    }
   ],
   "source": [
    "def disk_area(radius):\n",
    "    return 3.14 * radius * radius\n",
    "   \n",
    "disk_area(1.5)"
   ]
  },
  {
   "cell_type": "markdown",
   "metadata": {
    "slideshow": {
     "slide_type": "subslide"
    }
   },
   "source": [
    "### Mandatory and Optional args\n",
    "\n",
    "- Positional arguments (<font color=\"#0000FF\">**mandatory**</font>)\n",
    "- Keyword arguments (<font color=\"#0000FF\">**optional**</font>)\n",
    "- Keyword arguments allow you to specify <font color=\"#0000FF\">*default values*</font>.\n",
    "\n",
    "*Keyword arguments* are a very convenient feature for defining functions\n",
    "with a variable number of arguments, \n",
    "- especially when default values are to be used in most calls to the function.\n",
    "\n",
    "<!--\n",
    "> **warning**\n",
    ">\n",
    "> Default values are evaluated when the function is defined, not when it\n",
    "> is called. This can be problematic when using mutable types (e.g.\n",
    "> dictionary or list) and modifying them in the function body, since the\n",
    "> modifications will be persistent across invocations of the function.\n",
    ">\n",
    "> Using an immutable type in a keyword argument:\n",
    ">\n",
    "> Using an mutable type in a keyword argument (and modifying it inside\n",
    "> the function body):\n",
    "\n",
    "> **tip**\n",
    ">\n",
    "> More involved example implementing python's slicing:\n",
    ">\n",
    "> The order of the keyword arguments does not matter:\n",
    ">\n",
    "> but it is good practice to use the same ordering as the function's\n",
    "> definition.\n",
    "-->\n",
    "\n"
   ]
  },
  {
   "cell_type": "code",
   "execution_count": 54,
   "metadata": {
    "collapsed": false
   },
   "outputs": [
    {
     "name": "stdout",
     "output_type": "stream",
     "text": [
      "6\n"
     ]
    }
   ],
   "source": [
    "# Positional argument\n",
    "def double_it(x):\n",
    "    return x * 2\n",
    "print(double_it(3))"
   ]
  },
  {
   "cell_type": "code",
   "execution_count": 55,
   "metadata": {
    "collapsed": false,
    "slideshow": {
     "slide_type": "subslide"
    }
   },
   "outputs": [
    {
     "ename": "TypeError",
     "evalue": "double_it() missing 1 required positional argument: 'x'",
     "output_type": "error",
     "traceback": [
      "\u001b[1;31m---------------------------------------------------------------------------\u001b[0m",
      "\u001b[1;31mTypeError\u001b[0m                                 Traceback (most recent call last)",
      "\u001b[1;32m<ipython-input-55-a3b952ee31dd>\u001b[0m in \u001b[0;36m<module>\u001b[1;34m()\u001b[0m\n\u001b[1;32m----> 1\u001b[1;33m \u001b[0mprint\u001b[0m\u001b[1;33m(\u001b[0m\u001b[0mdouble_it\u001b[0m\u001b[1;33m(\u001b[0m\u001b[1;33m)\u001b[0m\u001b[1;33m)\u001b[0m\u001b[1;33m\u001b[0m\u001b[0m\n\u001b[0m",
      "\u001b[1;31mTypeError\u001b[0m: double_it() missing 1 required positional argument: 'x'"
     ]
    }
   ],
   "source": [
    "print(double_it())"
   ]
  },
  {
   "cell_type": "code",
   "execution_count": 56,
   "metadata": {
    "collapsed": false,
    "slideshow": {
     "slide_type": "fragment"
    }
   },
   "outputs": [
    {
     "name": "stdout",
     "output_type": "stream",
     "text": [
      "6\n",
      "4\n"
     ]
    }
   ],
   "source": [
    "# Now with a keyword argument\n",
    "def double_it(x=2):\n",
    "    return x * 2\n",
    "print(double_it(3))\n",
    "print(double_it())"
   ]
  },
  {
   "cell_type": "markdown",
   "metadata": {
    "slideshow": {
     "slide_type": "subslide"
    }
   },
   "source": [
    "Passing by reference (cautionary note!)\n",
    "----------------\n",
    "\n",
    "<!-- Can you modify the value of a variable inside a function? Most\n",
    "languages (C, Java, ...) distinguish \"passing by value\" and \"passing\n",
    "by reference\". In Python, such a distinction is somewhat artificial,\n",
    "and it is a bit subtle whether your variables are going to be modified\n",
    "or not. Fortunately, there exist clear rules. -->\n",
    "\n",
    "- Arguments to functions are references to objects \n",
    "- When you pass a variable to a function, python passes the reference or the 'pointer' to the object \n",
    "<!--to which the variable refers (the **value**).-->\n",
    "- <font color=\"#FF0000\">** Not the variable itself. **</font>\n",
    "\n",
    "If the <font color=\"#0000FF\">**value**</font> passed in a function is immutable, the function does\n",
    "not modify the caller's variable. If the <font color=\"#0000FF\">**value**</font> is mutable, the\n",
    "function <font color=\"#FF0000\">***may***</font> modify the caller's variable in-place:"
   ]
  },
  {
   "cell_type": "code",
   "execution_count": 62,
   "metadata": {
    "collapsed": true
   },
   "outputs": [],
   "source": [
    "def try_to_modify(arg1, arg2, arg3):\n",
    "    arg1 = 23\n",
    "    arg2.append(42)\n",
    "    arg3 = [142] # new reference\n",
    "    "
   ]
  },
  {
   "cell_type": "code",
   "execution_count": 63,
   "metadata": {
    "collapsed": true
   },
   "outputs": [],
   "source": [
    "a = 77    # immutable variable\n",
    "b = [99]  # mutable variable\n",
    "c = [28]"
   ]
  },
  {
   "cell_type": "code",
   "execution_count": 64,
   "metadata": {
    "collapsed": false,
    "slideshow": {
     "slide_type": "subslide"
    }
   },
   "outputs": [
    {
     "name": "stdout",
     "output_type": "stream",
     "text": [
      "a,b,c = 77 [99] [28]\n",
      "a,b,c = 77 [99, 42] [28]\n"
     ]
    }
   ],
   "source": [
    "print('a,b,c =',a,b,c)\n",
    "try_to_modify(a, b, c)\n",
    "print('a,b,c =',a,b,c)"
   ]
  },
  {
   "cell_type": "markdown",
   "metadata": {
    "slideshow": {
     "slide_type": "skip"
    }
   },
   "source": [
    "Local/Global Functions\n",
    "\n",
    "<!-- Functions have a local variable table called a *local namespace*.\n",
    "\n",
    "The variable `x` only exists within the function `try_to_modify`.\n",
    "\n",
    "Global variables\n",
    "----------------\n",
    "\n",
    "Variables declared outside the function can be referenced within the\n",
    "function:\n",
    "\n",
    "But these \"global\" variables cannot be modified within the function,\n",
    "unless declared **global** in the function.\n",
    "\n",
    "This doesn't work:\n",
    "\n",
    "This works:\n",
    "\n",
    "Variable number of parameters\n",
    "-----------------------------\n",
    "\n",
    "Special forms of parameters:\n",
    "\n",
    ":   -   `*args`: any number of positional arguments packed into a tuple\n",
    "    -   `**kwargs`: any number of keyword arguments packed into a\n",
    "        dictionary\n",
    "\n",
    "Docstrings\n",
    "----------\n",
    "\n",
    "Documentation about what the function does and its parameters. General\n",
    "convention:\n",
    "\n",
    "> **note**\n",
    ">\n",
    "> **Docstring guidelines**\n",
    ">\n",
    "> For the sake of standardization, the [Docstring\n",
    "> Conventions](https://www.python.org/dev/peps/pep-0257) webpage\n",
    "> documents the semantics and conventions associated with Python\n",
    "> docstrings.\n",
    ">\n",
    "> Also, the Numpy and Scipy modules have defined a precise standard for\n",
    "> documenting scientific functions, that you may want to follow for your\n",
    "> own functions, with a `Parameters` section, an `Examples` section,\n",
    "> etc. See\n",
    "> <http://projects.scipy.org/numpy/wiki/CodingStyleGuidelines#docstring-standard>\n",
    "> and <http://projects.scipy.org/numpy/browser/trunk/doc/example.py#L37>\n",
    "\n",
    "Functions are objects\n",
    "---------------------\n",
    "\n",
    "Functions are first-class objects, which means they can be:\n",
    "\n",
    ":   -   assigned to a variable\n",
    "    -   an item in a list (or any collection)\n",
    "    -   passed as an argument to another function.\n",
    "\n",
    "Methods\n",
    "-------\n",
    "\n",
    "Methods are functions attached to objects. You've seen these in our\n",
    "examples on *lists*, *dictionaries*, *strings*, etc...\n",
    "\n",
    "Exercises\n",
    "---------\n",
    "\n",
    "**Exercise: Fibonacci sequence**\n",
    "\n",
    "Write a function that displays the `n` first terms of the Fibonacci\n",
    "sequence, defined by:\n",
    "\n",
    "-   `u_0 = 1; u_1 = 1`\n",
    "-   `u_(n+2) = u_(n+1) + u_n`\n",
    "\n",
    "**Exercise: Quicksort**\n",
    "\n",
    "Implement the quicksort algorithm, as defined by wikipedia\n",
    "-->"
   ]
  },
  {
   "cell_type": "markdown",
   "metadata": {
    "slideshow": {
     "slide_type": "subslide"
    }
   },
   "source": [
    "Working with text files for Input and Output\n",
    "================\n",
    "Reading a file, line by line:"
   ]
  },
  {
   "cell_type": "code",
   "execution_count": 67,
   "metadata": {
    "collapsed": false
   },
   "outputs": [
    {
     "name": "stdout",
     "output_type": "stream",
     "text": [
      "line --> 1. I could hear another conversation through the cordless phone.\n",
      "line --> 2. She relied on him for transportation.\n",
      "line --> 3. He was an ordinary person who did extraordinary things.\n",
      "line --> 4. How long has this been going on?\n",
      "line --> 5. His class was on Saturday.\n"
     ]
    }
   ],
   "source": [
    "with open('my_file.txt') as my_file:\n",
    "    for line in my_file:\n",
    "        print('line -->',line.strip())"
   ]
  },
  {
   "cell_type": "markdown",
   "metadata": {
    "slideshow": {
     "slide_type": "skip"
    }
   },
   "source": [
    "File I/O options\n",
    "\n",
    "<!-- \n",
    "To be exhaustive, here are some information about input and output in\n",
    "Python. Since we will use the Numpy methods to read and write files,\n",
    "**you may skip this chapter at first reading**.\n",
    "\n",
    "We write or read **strings** to/from files (other types must be\n",
    "converted to strings). To write in a file:\n",
    "\n",
    "    >>> f = open('workfile', 'w') # opens the workfile file\n",
    "    >>> type(f)    # doctest: +SKIP \n",
    "    <type 'file'>\n",
    "    >>> f.write('This is a test \\nand another test')   # doctest: +SKIP \n",
    "    >>> f.close()\n",
    "\n",
    "To read from a file\n",
    "\n",
    "Iterating over a file\n",
    "---------------------\n",
    "\n",
    "### File modes\n",
    "\n",
    "-   Read-only: `r`\n",
    "-   Write-only: `w`\n",
    "    -   Note: Create a new file or *overwrite* existing file.\n",
    "-   Append a file: `a`\n",
    "-   Read and Write: `r+`\n",
    "-   Binary mode: `b`\n",
    "    -   Note: Use for binary files, especially on Windows.\n",
    "-->"
   ]
  },
  {
   "cell_type": "markdown",
   "metadata": {
    "slideshow": {
     "slide_type": "skip"
    }
   },
   "source": [
    "Standard Library\n",
    "\n",
    "<!--\n",
    "Standard Library\n",
    "================\n",
    "\n",
    "> **note**\n",
    ">\n",
    "> Reference document for this section:\n",
    ">\n",
    "> -   The Python Standard Library documentation:\n",
    ">     <https://docs.python.org/library/index.html>\n",
    "> -   Python Essential Reference, David Beazley, Addison-Wesley\n",
    ">     Professional\n",
    "\n",
    "`os` module: operating system functionality\n",
    "-------------------------------------------\n",
    "\n",
    "*\"A portable way of using operating system dependent functionality.\"*\n",
    "\n",
    "### Directory and file manipulation\n",
    "\n",
    "Current directory:\n",
    "\n",
    "List a directory:\n",
    "\n",
    "Make a directory:\n",
    "\n",
    "Rename the directory:\n",
    "\n",
    "Delete a file:\n",
    "\n",
    "### `os.path`: path manipulations\n",
    "\n",
    "`os.path` provides common operations on pathnames.\n",
    "\n",
    "### Running an external command\n",
    "\n",
    "> **note**\n",
    ">\n",
    "> Alternative to `os.system`\n",
    ">\n",
    "> A noteworthy alternative to `os.system` is the [sh\n",
    "> module](http://amoffat.github.com/sh/). Which provides much more\n",
    "> convenient ways to obtain the output, error stream and exit code of\n",
    "> the external command.\n",
    "\n",
    "### Walking a directory\n",
    "\n",
    "`os.path.walk` generates a list of filenames in a directory tree.\n",
    "\n",
    "### Environment variables:\n",
    "\n",
    "`shutil`: high-level file operations\n",
    "------------------------------------\n",
    "\n",
    "The `shutil` provides useful file operations:\n",
    "\n",
    "> -   `shutil.rmtree`: Recursively delete a directory tree.\n",
    "> -   `shutil.move`: Recursively move a file or directory to\n",
    ">     another location.\n",
    "> -   `shutil.copy`: Copy files or directories.\n",
    "\n",
    "`glob`: Pattern matching on files\n",
    "---------------------------------\n",
    "\n",
    "The `glob` module provides convenient file pattern matching.\n",
    "\n",
    "Find all files ending in `.txt`:\n",
    "\n",
    "`sys` module: system-specific information\n",
    "-----------------------------------------\n",
    "\n",
    "System-specific information related to the Python interpreter.\n",
    "\n",
    "-   Which version of python are you running and where is it installed:\n",
    "-   List of command line arguments passed to a Python script:\n",
    "\n",
    "`sys.path` is a list of strings that specifies the search path for\n",
    "modules. Initialized from PYTHONPATH:\n",
    "\n",
    "`pickle`: easy persistence\n",
    "--------------------------\n",
    "\n",
    "Useful to store arbitrary objects to a file. Not safe or fast!\n",
    "\n",
    "**Exercise**\n",
    "\n",
    "Write a program to search your `PYTHONPATH` for the module `site.py`.\n",
    "\n",
    "path\\_site\n",
    "-->"
   ]
  },
  {
   "cell_type": "markdown",
   "metadata": {
    "slideshow": {
     "slide_type": "skip"
    }
   },
   "source": [
    "Exceptions\n",
    "\n",
    "<!--\n",
    "Exception handling in Python\n",
    "============================\n",
    "\n",
    "It is likely that you have raised Exceptions if you have typed all the\n",
    "previous commands of the tutorial. For example, you may have raised an\n",
    "exception if you entered a command with a typo.\n",
    "\n",
    "Exceptions are raised by different kinds of errors arising when\n",
    "executing Python code. In your own code, you may also catch errors, or\n",
    "define custom error types. You may want to look at the descriptions of\n",
    "the [the built-in\n",
    "Exceptions](https://docs.python.org/2/library/exceptions.html) when\n",
    "looking for the right exception type.\n",
    "\n",
    "Exceptions\n",
    "----------\n",
    "\n",
    "Exceptions are raised by errors in Python:\n",
    "\n",
    "As you can see, there are **different types** of exceptions for\n",
    "different errors.\n",
    "\n",
    "Catching exceptions\n",
    "-------------------\n",
    "\n",
    "### try/except\n",
    "\n",
    "### try/finally\n",
    "\n",
    "Important for resource management (e.g. closing a file)\n",
    "\n",
    "### Easier to ask for forgiveness than for permission\n",
    "\n",
    "Raising exceptions\n",
    "------------------\n",
    "\n",
    "-   Capturing and reraising an exception:\n",
    "-   Exceptions to pass messages between parts of the code:\n",
    "\n",
    "Use exceptions to notify certain conditions are met (e.g. StopIteration)\n",
    "or not (e.g. custom error raising)\n",
    "-->"
   ]
  },
  {
   "cell_type": "markdown",
   "metadata": {
    "slideshow": {
     "slide_type": "slide"
    }
   },
   "source": [
    "Object-oriented programming (OOP)\n",
    "=================================\n",
    "\n",
    "Python supports object-oriented programming (OOP) using classes\n",
    "\n",
    "Here is a small example: we create a Student *class*, which is an object\n",
    "gathering several custom functions (*methods*) and variables\n",
    "(*attributes*), we will be able to use:"
   ]
  },
  {
   "cell_type": "code",
   "execution_count": 104,
   "metadata": {
    "collapsed": false,
    "slideshow": {
     "slide_type": "subslide"
    }
   },
   "outputs": [
    {
     "name": "stdout",
     "output_type": "stream",
     "text": [
      "anna 21 physics\n"
     ]
    }
   ],
   "source": [
    "# class example\n",
    "class Student(object):\n",
    "    def __init__(self, name):\n",
    "        self.name = name\n",
    "    def set_age(self, age):\n",
    "        self.age = age\n",
    "    def set_major(self, major):\n",
    "        self.major = major\n",
    "\n",
    "anna = Student('anna')\n",
    "anna.set_age(21)\n",
    "anna.set_major('physics')\n",
    "print( anna.name , anna.age , anna.major )"
   ]
  },
  {
   "cell_type": "markdown",
   "metadata": {
    "slideshow": {
     "slide_type": "subslide"
    }
   },
   "source": [
    "In the previous example, the Student class has the following methods\n",
    "- `__init__` \n",
    "- `set_age` \n",
    "- `set_major` \n",
    "\n",
    "The attributes are \n",
    "- `name`\n",
    "- `age` \n",
    "- `major`\n",
    "\n",
    "<!--\n",
    "can call these methods and attributes with the following notation:\n",
    "`classinstance.method` or `classinstance.attribute`. \n",
    "The `__init__` constructor is a special method we call with:\n",
    "`MyClass(init parameters if any)`. \n",
    "-->"
   ]
  },
  {
   "cell_type": "markdown",
   "metadata": {
    "slideshow": {
     "slide_type": "subslide"
    }
   },
   "source": [
    "Now, suppose we want to create a new class MasterStudent with the same\n",
    "methods and attributes as the previous one, but with an additional\n",
    "`internship` attribute. We won't copy the previous class, but\n",
    "**inherit** from it:"
   ]
  },
  {
   "cell_type": "code",
   "execution_count": 106,
   "metadata": {
    "collapsed": false
   },
   "outputs": [
    {
     "name": "stdout",
     "output_type": "stream",
     "text": [
      "mandatory, from March to June\n",
      "23\n"
     ]
    }
   ],
   "source": [
    "class MasterStudent(Student):\n",
    "    internship = 'mandatory, from March to June'\n",
    "\n",
    "james = MasterStudent('james')\n",
    "print( james.internship )\n",
    "\n",
    "james.set_age(23)\n",
    "print( james.age )\n",
    "\n",
    "# The MasterStudent class inherited from the Student attributes and methods."
   ]
  },
  {
   "cell_type": "markdown",
   "metadata": {
    "slideshow": {
     "slide_type": "skip"
    }
   },
   "source": [
    "Inheritance Note\n",
    "<!-- \n",
    "Thanks to classes and object-oriented programming, we can organize code\n",
    "with different classes corresponding to different objects we encounter\n",
    "(an Experiment class, an Image class, a Flow class, etc.), with their\n",
    "own methods and attributes. Then we can use inheritance to consider\n",
    "variations around a base class and **re-use** code. Ex : from a Flow\n",
    "base class, we can create derived StokesFlow, TurbulentFlow,\n",
    "PotentialFlow, etc.\n",
    "-->"
   ]
  },
  {
   "cell_type": "code",
   "execution_count": null,
   "metadata": {
    "collapsed": true
   },
   "outputs": [],
   "source": []
  }
 ],
 "metadata": {
  "celltoolbar": "Slideshow",
  "kernelspec": {
   "display_name": "Python 3",
   "language": "python",
   "name": "python3"
  },
  "language_info": {
   "codemirror_mode": {
    "name": "ipython",
    "version": 3
   },
   "file_extension": ".py",
   "mimetype": "text/x-python",
   "name": "python",
   "nbconvert_exporter": "python",
   "pygments_lexer": "ipython3",
   "version": "3.5.1"
  }
 },
 "nbformat": 4,
 "nbformat_minor": 0
}
