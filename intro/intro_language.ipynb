{
 "cells": [
  {
   "cell_type": "markdown",
   "metadata": {
    "slideshow": {
     "slide_type": "skip"
    }
   },
   "source": [
    "First steps\n",
    "===========\n",
    "\n",
    "Start the **Ipython** shell (an enhanced interactive Python shell):\n",
    "\n",
    "-   by typing \"ipython\" from a Linux/Mac terminal, or from the Windows\n",
    "    cmd shell,\n",
    "-   **or** by starting the program from a menu, e.g. in the\n",
    "    [Python(x,y)](http://www.pythonxy.com/) or\n",
    "    [EPD](http://store.enthought.com/) menu if you have installed one of\n",
    "    these scientific-Python suites.\n",
    "\n",
    "> **tip**\n",
    ">\n",
    "> If you don't have Ipython installed on your computer, other Python\n",
    "> shells are available, such as the plain Python shell started by typing\n",
    "> \"python\" in a terminal, or the Idle interpreter. However, we advise to\n",
    "> use the Ipython shell because of its enhanced features, especially for\n",
    "> interactive scientific computing.\n",
    "\n",
    "Once you have started the interpreter, type :\n",
    "\n",
    "    >>> print(\"Hello, world!\")\n",
    "    Hello, world!\n",
    "\n",
    "> **tip**\n",
    ">\n",
    "> The message \"Hello, world!\" is then displayed. You just executed your\n",
    "> first Python instruction, congratulations!\n",
    "\n",
    "To get yourself started, type the following stack of instructions :\n",
    "\n",
    "    >>> a = 3\n",
    "    >>> b = 2*a\n",
    "    >>> type(b)     # doctest: +SKIP\n",
    "    <type 'int'>\n",
    "    >>> print(b)\n",
    "    6\n",
    "    >>> a*b \n",
    "    18\n",
    "    >>> b = 'hello' \n",
    "    >>> type(b)    # doctest: +SKIP\n",
    "    <type 'str'>\n",
    "    >>> b + b\n",
    "    'hellohello'\n",
    "    >>> 2*b\n",
    "    'hellohello'\n",
    "\n",
    "> **tip**\n",
    ">\n",
    "> Two variables `a` and `b` have been defined above. Note that one does\n",
    "> not declare the type of a variable before assigning its value. In C,\n",
    "> conversely, one should write:\n",
    ">\n",
    "> In addition, the type of a variable may change, in the sense that at\n",
    "> one point in time it can be equal to a value of a certain type, and a\n",
    "> second point in time, it can be equal to a value of a different type.\n",
    "> b was first equal to an integer, but it became equal to a string when\n",
    "> it was assigned the value 'hello'. Operations on integers (`b=2*a`)\n",
    "> are coded natively in Python, and so are some operations on strings\n",
    "> such as additions and multiplications, which amount respectively to\n",
    "> concatenation and repetition."
   ]
  },
  {
   "cell_type": "markdown",
   "metadata": {
    "slideshow": {
     "slide_type": "slide"
    }
   },
   "source": [
    "# Interesting Data Types\n",
    "### Four numerical types\n",
    "* `int`\n",
    "* `float`\n",
    "* `complex`\n",
    "* `booleans`"
   ]
  },
  {
   "cell_type": "code",
   "execution_count": null,
   "metadata": {
    "collapsed": false,
    "slideshow": {
     "slide_type": "-"
    }
   },
   "outputs": [],
   "source": [
    "a = 2\n",
    "b = 1.5\n",
    "c = a + 1j*b\n",
    "d = a > 5\n",
    "print('    a=',a,'    b=',b,'    c=',c,'    d=',d)"
   ]
  },
  {
   "cell_type": "markdown",
   "metadata": {
    "slideshow": {
     "slide_type": "subslide"
    }
   },
   "source": [
    "### Strings\n",
    "There's a built-in shorthand to `sprintf`.  This Matlab command:\n",
    "\n",
    "`outstr = sprintf('mystr=%s, myfloat=%.2f and myint=%d', mystr, myfloat, myint);`\n",
    "\n",
    "Is accomplished in Python by:"
   ]
  },
  {
   "cell_type": "code",
   "execution_count": null,
   "metadata": {
    "collapsed": false
   },
   "outputs": [],
   "source": [
    "mystr = 'some chars'\n",
    "myint = 42\n",
    "myfloat = 3.14159\n",
    "outstr = 'mystr = %s, myfloat = %.2f and myint = %d' % (mystr, myint, myfloat)\n",
    "print(outstr)"
   ]
  },
  {
   "cell_type": "markdown",
   "metadata": {
    "slideshow": {
     "slide_type": "subslide"
    }
   },
   "source": [
    "### Four container types\n",
    "* `list`\n",
    "* `tuple`\n",
    "* `dictionary`\n",
    "* `set`"
   ]
  },
  {
   "cell_type": "markdown",
   "metadata": {
    "slideshow": {
     "slide_type": "subslide"
    }
   },
   "source": [
    "### List Example"
   ]
  },
  {
   "cell_type": "code",
   "execution_count": null,
   "metadata": {
    "collapsed": false,
    "slideshow": {
     "slide_type": "-"
    }
   },
   "outputs": [],
   "source": [
    "my_list = [a,b,c,d,'astring', ['g','h','i']]\n",
    "print(my_list)\n",
    "print('length of list =',len(my_list))\n",
    "\n",
    "my_list.pop() #lists are mutable or changeable\n",
    "print('\\n\\n',my_list)\n",
    "print('length of list =',len(my_list))"
   ]
  },
  {
   "cell_type": "markdown",
   "metadata": {
    "slideshow": {
     "slide_type": "subslide"
    }
   },
   "source": [
    "### Tuple Example"
   ]
  },
  {
   "cell_type": "code",
   "execution_count": null,
   "metadata": {
    "collapsed": false,
    "slideshow": {
     "slide_type": "-"
    }
   },
   "outputs": [],
   "source": [
    "my_tuple = (a,b,c,d)\n",
    "print(my_tuple)\n",
    "\n",
    "#That's it... it can't be changed at this point!"
   ]
  },
  {
   "cell_type": "markdown",
   "metadata": {
    "slideshow": {
     "slide_type": "subslide"
    }
   },
   "source": [
    "### Dictionary Example"
   ]
  },
  {
   "cell_type": "code",
   "execution_count": null,
   "metadata": {
    "collapsed": false
   },
   "outputs": [],
   "source": [
    "my_dictionary = {} # mutable like lists, but can be *indexed* with any *immutable* object\n",
    "my_dictionary[mystr]    = 24  # index with string\n",
    "my_dictionary[99]       = 48  # index with int\n",
    "my_dictionary[my_tuple] = 72  # index with a tuple - it's immutable!\n",
    "\n",
    "print(my_dictionary) \n",
    "# dictionaries are unordered\n",
    "# i.e. order is NOT guaranteed"
   ]
  },
  {
   "cell_type": "markdown",
   "metadata": {
    "slideshow": {
     "slide_type": "slide"
    }
   },
   "source": [
    "Control Flow\n",
    "============\n",
    "\n",
    "Controls the order in which the code is executed.\n",
    "\n",
    "if/elif/else\n",
    "------------\n",
    "\n",
    "**Blocks are delimited by indentation**"
   ]
  },
  {
   "cell_type": "code",
   "execution_count": null,
   "metadata": {
    "collapsed": false
   },
   "outputs": [],
   "source": [
    "if 2**2 == 4:\n",
    "    print('Obvious!')\n",
    "else:\n",
    "    print('The else case!')"
   ]
  },
  {
   "cell_type": "markdown",
   "metadata": {
    "slideshow": {
     "slide_type": "subslide"
    }
   },
   "source": [
    "<!-- Type the following lines in your Python interpreter, and be careful to\n",
    "> **respect the indentation depth**. The Ipython shell automatically\n",
    "> increases the indentation depth after a column `:` sign; to decrease\n",
    "> the indentation depth, go four spaces to the left with the Backspace\n",
    "> key. Press the Enter key twice to leave the logical block. \n",
    "\n",
    "Indentation is compulsory in scripts as well. As an exercise, re-type\n",
    "the previous lines with the same indentation in a script `condition.py`,\n",
    "and execute the script with `run condition.py` in Ipython.\n",
    "-->\n",
    "for/range\n",
    "---------"
   ]
  },
  {
   "cell_type": "code",
   "execution_count": 59,
   "metadata": {
    "collapsed": false,
    "slideshow": {
     "slide_type": "-"
    }
   },
   "outputs": [
    {
     "name": "stdout",
     "output_type": "stream",
     "text": [
      "0\n",
      "1\n",
      "2\n",
      "3\n"
     ]
    }
   ],
   "source": [
    "# Iterating with an index\n",
    "for i in range(4):\n",
    "    print(i)"
   ]
  },
  {
   "cell_type": "code",
   "execution_count": 60,
   "metadata": {
    "collapsed": false,
    "slideshow": {
     "slide_type": "fragment"
    }
   },
   "outputs": [
    {
     "name": "stdout",
     "output_type": "stream",
     "text": [
      "Python is cool\n",
      "Python is powerful\n",
      "Python is readable\n"
     ]
    }
   ],
   "source": [
    "#But most often, it is more readable to iterate over values:\n",
    "for word in ('cool', 'powerful', 'readable'):\n",
    "    print('Python is %s' % word)"
   ]
  },
  {
   "cell_type": "markdown",
   "metadata": {
    "slideshow": {
     "slide_type": "subslide"
    }
   },
   "source": [
    "while/break/continue\n",
    "--------------------\n",
    "\n",
    "Typical C-style while loop (Mandelbrot problem):"
   ]
  },
  {
   "cell_type": "code",
   "execution_count": 63,
   "metadata": {
    "collapsed": false
   },
   "outputs": [
    {
     "data": {
      "text/plain": [
       "(-134+352j)"
      ]
     },
     "execution_count": 63,
     "metadata": {},
     "output_type": "execute_result"
    }
   ],
   "source": [
    "z = 1 + 1j\n",
    "while abs(z) < 100:\n",
    "    z = z**2 + 1\n",
    "z"
   ]
  },
  {
   "cell_type": "markdown",
   "metadata": {
    "slideshow": {
     "slide_type": "subslide"
    }
   },
   "source": [
    "**More advanced features**\n",
    "\n",
    "`break` out of enclosing for/while loop:"
   ]
  },
  {
   "cell_type": "code",
   "execution_count": 67,
   "metadata": {
    "collapsed": false
   },
   "outputs": [
    {
     "data": {
      "text/plain": [
       "(-134+352j)"
      ]
     },
     "execution_count": 67,
     "metadata": {},
     "output_type": "execute_result"
    }
   ],
   "source": [
    "z = 1 + 1j\n",
    "while abs(z) < 100:\n",
    "    if z.imag == 0:\n",
    "        break\n",
    "    z = z**2 + 1\n",
    "z"
   ]
  },
  {
   "cell_type": "markdown",
   "metadata": {
    "slideshow": {
     "slide_type": "subslide"
    }
   },
   "source": [
    "`continue` the next iteration of a loop.:"
   ]
  },
  {
   "cell_type": "code",
   "execution_count": 68,
   "metadata": {
    "collapsed": false
   },
   "outputs": [
    {
     "name": "stdout",
     "output_type": "stream",
     "text": [
      "1.0\n",
      "0.5\n",
      "0.25\n"
     ]
    }
   ],
   "source": [
    "a = [1, 0, 2, 4]\n",
    "for element in a:\n",
    "    if element == 0:\n",
    "        continue\n",
    "    print(1. / element)"
   ]
  },
  {
   "cell_type": "markdown",
   "metadata": {},
   "source": [
    "<!--\n",
    "Conditional Expressions\n",
    "-----------------------\n",
    "\n",
    "`if <OBJECT>`\n",
    "\n",
    ":   \n",
    "\n",
    "> Evaluates to False:\n",
    ">\n",
    "> :   -   any number equal to zero (0, 0.0, 0+0j)\n",
    ">     -   an empty container (list, tuple, set, dictionary, ...)\n",
    ">     -   `False`, `None`\n",
    ">\n",
    "> Evaluates to True:\n",
    ">\n",
    "> :   -   everything else\n",
    ">\n",
    "`a == b`\n",
    "\n",
    ":   \n",
    "\n",
    "> Tests equality, with logics:\n",
    ">\n",
    ">     >>> 1 == 1.\n",
    ">     True\n",
    "\n",
    "`a is b`\n",
    "\n",
    ":   \n",
    "\n",
    "> Tests identity: both sides are the same object:\n",
    ">\n",
    ">     >>> 1 is 1.\n",
    ">     False\n",
    ">\n",
    ">     >>> a = 1\n",
    ">     >>> b = 1\n",
    ">     >>> a is b\n",
    ">     True\n",
    "\n",
    "`a in b`\n",
    "\n",
    ":   \n",
    "\n",
    "> For any collection `b`: `b` contains `a` :\n",
    ">\n",
    ">     >>> b = [1, 2, 3]\n",
    ">     >>> 2 in b\n",
    ">     True\n",
    ">     >>> 5 in b\n",
    ">     False\n",
    ">\n",
    "> If `b` is a dictionary, this tests that `a` is a key of `b`.\n",
    "\n",
    "Advanced iteration\n",
    "------------------\n",
    "\n",
    "### Iterate over any *sequence*\n",
    "\n",
    "You can iterate over any sequence (string, list, keys in a dictionary,\n",
    "lines in a file, ...):\n",
    "\n",
    "    >>> vowels = 'aeiouy'\n",
    "\n",
    "    >>> for i in 'powerful':\n",
    "    ...     if i in vowels:\n",
    "    ...         print(i)\n",
    "    o\n",
    "    e\n",
    "    u\n",
    "\n",
    "    >>> message = \"Hello how are you?\"\n",
    "    >>> message.split() # returns a list\n",
    "    ['Hello', 'how', 'are', 'you?']\n",
    "    >>> for word in message.split():\n",
    "    ...     print(word)\n",
    "    ...\n",
    "    Hello\n",
    "    how\n",
    "    are\n",
    "    you?\n",
    "\n",
    "> **tip**\n",
    ">\n",
    "> Few languages (in particular, languages for scientific computing)\n",
    "> allow to loop over anything but integers/indices. With Python it is\n",
    "> possible to loop exactly over the objects of interest without\n",
    "> bothering with indices you often don't care about. This feature can\n",
    "> often be used to make code more readable.\n",
    "\n",
    "> **warning**\n",
    ">\n",
    "> Not safe to modify the sequence you are iterating over.\n",
    "\n",
    "### Keeping track of enumeration number\n",
    "\n",
    "Common task is to iterate over a sequence while keeping track of the\n",
    "item number.\n",
    "\n",
    "-   Could use while loop with a counter as above. Or a for loop:\n",
    "\n",
    "        >>> words = ('cool', 'powerful', 'readable')\n",
    "        >>> for i in range(0, len(words)):\n",
    "        ...     print((i, words[i]))\n",
    "        (0, 'cool')\n",
    "        (1, 'powerful')\n",
    "        (2, 'readable')\n",
    "\n",
    "-   But, Python provides a built-in function - `enumerate` - for this:\n",
    "\n",
    "        >>> for index, item in enumerate(words):\n",
    "        ...     print((index, item))\n",
    "        (0, 'cool')\n",
    "        (1, 'powerful')\n",
    "        (2, 'readable')\n",
    "\n",
    "### Looping over a dictionary\n",
    "\n",
    "Use **items**:\n",
    "\n",
    "    >>> d = {'a': 1, 'b':1.2, 'c':1j}\n",
    "\n",
    "    >>> for key, val in sorted(d.items()):\n",
    "    ...     print('Key: %s has value: %s' % (key, val))\n",
    "    Key: a has value: 1\n",
    "    Key: b has value: 1.2\n",
    "    Key: c has value: 1j\n",
    "\n",
    "> **note**\n",
    ">\n",
    "> The ordering of a dictionary in random, thus we use sorted which will\n",
    "> sort on the keys.\n",
    "-->\n",
    "List Comprehensions\n",
    "-------------------"
   ]
  },
  {
   "cell_type": "code",
   "execution_count": 78,
   "metadata": {
    "collapsed": false,
    "slideshow": {
     "slide_type": "-"
    }
   },
   "outputs": [
    {
     "name": "stdout",
     "output_type": "stream",
     "text": [
      "[0, 1, 2, 3]\n",
      "[0, 1, 4, 9]\n"
     ]
    }
   ],
   "source": [
    "print(list(range(4)))\n",
    "\n",
    "print([i**2 for i in range(4)])"
   ]
  },
  {
   "cell_type": "markdown",
   "metadata": {
    "slideshow": {
     "slide_type": "subslide"
    }
   },
   "source": [
    "**Exercise**\n",
    "\n",
    "Compute the decimals of Pi using the Wallis formula:\n",
    "\n",
    "$$\\pi = 2 \\prod_{i=1}^{\\infty} \\frac{4i^2}{4i^2 - 1}$$"
   ]
  },
  {
   "cell_type": "code",
   "execution_count": 75,
   "metadata": {
    "collapsed": false,
    "slideshow": {
     "slide_type": "fragment"
    }
   },
   "outputs": [
    {
     "name": "stdout",
     "output_type": "stream",
     "text": [
      "3.1415141108281714\n"
     ]
    }
   ],
   "source": [
    "terms = [ 4 * ii**2 / (4*(ii**2) - 1) for ii in range(1,10000,1) ]\n",
    "prod = 1\n",
    "for term in terms:\n",
    "    prod *= term\n",
    "print(2*prod)"
   ]
  }
 ],
 "metadata": {
  "celltoolbar": "Slideshow",
  "kernelspec": {
   "display_name": "Python 3",
   "language": "python",
   "name": "python3"
  },
  "language_info": {
   "codemirror_mode": {
    "name": "ipython",
    "version": 3
   },
   "file_extension": ".py",
   "mimetype": "text/x-python",
   "name": "python",
   "nbconvert_exporter": "python",
   "pygments_lexer": "ipython3",
   "version": "3.5.1"
  }
 },
 "nbformat": 4,
 "nbformat_minor": 0
}
