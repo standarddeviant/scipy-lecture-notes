{
 "cells": [
  {
   "cell_type": "markdown",
   "metadata": {
    "slideshow": {
     "slide_type": "skip"
    }
   },
   "source": [
    "First steps\n",
    "===========\n",
    "\n",
    "Start the **Ipython** shell (an enhanced interactive Python shell):\n",
    "\n",
    "-   by typing \"ipython\" from a Linux/Mac terminal, or from the Windows\n",
    "    cmd shell,\n",
    "-   **or** by starting the program from a menu, e.g. in the\n",
    "    [Python(x,y)](http://www.pythonxy.com/) or\n",
    "    [EPD](http://store.enthought.com/) menu if you have installed one of\n",
    "    these scientific-Python suites.\n",
    "\n",
    "> **tip**\n",
    ">\n",
    "> If you don't have Ipython installed on your computer, other Python\n",
    "> shells are available, such as the plain Python shell started by typing\n",
    "> \"python\" in a terminal, or the Idle interpreter. However, we advise to\n",
    "> use the Ipython shell because of its enhanced features, especially for\n",
    "> interactive scientific computing.\n",
    "\n",
    "Once you have started the interpreter, type :\n",
    "\n",
    "    >>> print(\"Hello, world!\")\n",
    "    Hello, world!\n",
    "\n",
    "> **tip**\n",
    ">\n",
    "> The message \"Hello, world!\" is then displayed. You just executed your\n",
    "> first Python instruction, congratulations!\n",
    "\n",
    "To get yourself started, type the following stack of instructions :\n",
    "\n",
    "    >>> a = 3\n",
    "    >>> b = 2*a\n",
    "    >>> type(b)     # doctest: +SKIP\n",
    "    <type 'int'>\n",
    "    >>> print(b)\n",
    "    6\n",
    "    >>> a*b \n",
    "    18\n",
    "    >>> b = 'hello' \n",
    "    >>> type(b)    # doctest: +SKIP\n",
    "    <type 'str'>\n",
    "    >>> b + b\n",
    "    'hellohello'\n",
    "    >>> 2*b\n",
    "    'hellohello'\n",
    "\n",
    "> **tip**\n",
    ">\n",
    "> Two variables `a` and `b` have been defined above. Note that one does\n",
    "> not declare the type of a variable before assigning its value. In C,\n",
    "> conversely, one should write:\n",
    ">\n",
    "> In addition, the type of a variable may change, in the sense that at\n",
    "> one point in time it can be equal to a value of a certain type, and a\n",
    "> second point in time, it can be equal to a value of a different type.\n",
    "> b was first equal to an integer, but it became equal to a string when\n",
    "> it was assigned the value 'hello'. Operations on integers (`b=2*a`)\n",
    "> are coded natively in Python, and so are some operations on strings\n",
    "> such as additions and multiplications, which amount respectively to\n",
    "> concatenation and repetition."
   ]
  },
  {
   "cell_type": "markdown",
   "metadata": {
    "slideshow": {
     "slide_type": "slide"
    }
   },
   "source": [
    "# Interesting Data Types\n",
    "### Four numerical types\n",
    "* `int`\n",
    "* `float`\n",
    "* `complex`\n",
    "* `booleans`"
   ]
  },
  {
   "cell_type": "markdown",
   "metadata": {
    "slideshow": {
     "slide_type": "subslide"
    }
   },
   "source": [
    "### Three container types\n",
    "* `list`\n",
    "* `tuple`\n",
    "* `dictionary`"
   ]
  },
  {
   "cell_type": "code",
   "execution_count": 25,
   "metadata": {
    "collapsed": false,
    "slideshow": {
     "slide_type": "subslide"
    }
   },
   "outputs": [
    {
     "name": "stdout",
     "output_type": "stream",
     "text": [
      "[2, 1.5, (2+1.5j), False, 'astring', ['g', 'h', 'i']]\n",
      "length of list = 6\n",
      "\n",
      "\n",
      " [2, 1.5, (2+1.5j), False, 'astring']\n",
      "length of list = 5\n"
     ]
    }
   ],
   "source": [
    "# List example\n",
    "my_list = [a,b,c,d,'astring', ['g','h','i']]\n",
    "print(my_list)\n",
    "print('length of list =',len(my_list))\n",
    "\n",
    "my_list.pop() #lists are mutable or changeable\n",
    "print('\\n\\n',my_list)\n",
    "print('length of list =',len(my_list))\n",
    "\n"
   ]
  },
  {
   "cell_type": "code",
   "execution_count": null,
   "metadata": {
    "collapsed": true
   },
   "outputs": [],
   "source": [
    "# Tuple Example"
   ]
  },
  {
   "cell_type": "code",
   "execution_count": 8,
   "metadata": {
    "collapsed": false,
    "slideshow": {
     "slide_type": "skip"
    }
   },
   "outputs": [
    {
     "name": "stdout",
     "output_type": "stream",
     "text": [
      "    a= 2     b= 1.5     c= (2+1.5j)     d= False\n"
     ]
    }
   ],
   "source": [
    "a = 2\n",
    "b = 1.5\n",
    "c = a + 1j*b\n",
    "d = a > 5\n",
    "print('    a=',a,'    b=',b,'    c=',c,'    d=',d)"
   ]
  },
  {
   "cell_type": "code",
   "execution_count": null,
   "metadata": {
    "collapsed": true,
    "slideshow": {
     "slide_type": "subslide"
    }
   },
   "outputs": [],
   "source": []
  }
 ],
 "metadata": {
  "celltoolbar": "Slideshow",
  "kernelspec": {
   "display_name": "Python 3",
   "language": "python",
   "name": "python3"
  },
  "language_info": {
   "codemirror_mode": {
    "name": "ipython",
    "version": 3
   },
   "file_extension": ".py",
   "mimetype": "text/x-python",
   "name": "python",
   "nbconvert_exporter": "python",
   "pygments_lexer": "ipython3",
   "version": "3.5.1"
  }
 },
 "nbformat": 4,
 "nbformat_minor": 0
}
