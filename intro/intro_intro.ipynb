{
 "cells": [
  {
   "cell_type": "markdown",
   "metadata": {
    "slideshow": {
     "slide_type": "slide"
    }
   },
   "source": [
    "Scientific computing with tools and workflow\n",
    "============================================\n",
    "\n",
    "**Authors**: *Fernando Perez, Emmanuelle Gouillart, Gaël Varoquaux,\n",
    "Valentin Haenel*\n",
    "\n",
    "Why Python?\n",
    "-----------\n",
    "\n",
    "### The scientist's needs\n",
    "\n",
    "-   Get data (simulation, experiment control),\n",
    "-   Manipulate and process data,\n",
    "-   Visualize results (to understand what we are doing!),\n",
    "-   Communicate results: produce figures for reports or publications,\n",
    "    write presentations."
   ]
  },
  {
   "cell_type": "markdown",
   "metadata": {
    "slideshow": {
     "slide_type": "skip"
    }
   },
   "source": [
    "### Specifications\n",
    "\n",
    "-   Rich collection of already existing **bricks** corresponding to\n",
    "    classical numerical methods or basic actions: we don't want to\n",
    "    re-program the plotting of a curve, a Fourier transform or a\n",
    "    fitting algorithm. Don't reinvent the wheel!\n",
    "-   Easy to learn: computer science is neither our job nor\n",
    "    our education. We want to be able to draw a curve, smooth a signal,\n",
    "    do a Fourier transform in a few minutes.\n",
    "-   Easy communication with collaborators, students, customers, to make\n",
    "    the code live within a lab or a company: the code should be as\n",
    "    readable as a book. Thus, the language should contain as few syntax\n",
    "    symbols or unneeded routines as possible that would divert the\n",
    "    reader from the mathematical or scientific understanding of\n",
    "    the code.\n",
    "-   Efficient code that executes quickly... but needless to say that a\n",
    "    very fast code becomes useless if we spend too much time writing it.\n",
    "    So, we need both a quick development time and a quick\n",
    "    execution time.\n",
    "-   A single environment/language for everything, if possible, to avoid\n",
    "    learning a new software for each new problem."
   ]
  },
  {
   "cell_type": "markdown",
   "metadata": {
    "slideshow": {
     "slide_type": "slide"
    }
   },
   "source": [
    "### Existing solutions\n",
    "\n",
    "Which solutions do scientists use to work?"
   ]
  },
  {
   "cell_type": "markdown",
   "metadata": {
    "slideshow": {
     "slide_type": "subslide"
    }
   },
   "source": [
    "**Compiled languages: C, C++, Fortran, etc.**\n",
    "\n",
    "-   Advantages:\n",
    "    -   Very fast. Very optimized compilers. For heavy computations,\n",
    "        it's difficult to outperform these languages.\n",
    "    -   Some very optimized scientific libraries have been written for\n",
    "        these languages. Example: BLAS (vector/matrix operations)\n",
    "-   Drawbacks:\n",
    "    -   Painful usage: no interactivity during development, mandatory\n",
    "        compilation steps, verbose syntax (&, ::, }}, ; etc.), manual\n",
    "        memory management (tricky in C). These are **difficult\n",
    "        languages** for non computer scientists."
   ]
  },
  {
   "cell_type": "markdown",
   "metadata": {
    "slideshow": {
     "slide_type": "subslide"
    }
   },
   "source": [
    "**Scripting languages: Matlab**\n",
    "\n",
    "-   Advantages:\n",
    "    -   Very rich collection of libraries with numerous algorithms, for\n",
    "        many different domains. Fast execution because these libraries\n",
    "        are often written in a compiled language.\n",
    "    -   Pleasant development environment: comprehensive and well\n",
    "        organized help, integrated editor, etc.\n",
    "    -   Commercial support is available.\n",
    "-   Drawbacks:\n",
    "    -   Base language is quite poor and can become restrictive for\n",
    "        advanced users.\n",
    "    -   Not free."
   ]
  },
  {
   "cell_type": "markdown",
   "metadata": {
    "slideshow": {
     "slide_type": "subslide"
    }
   },
   "source": [
    "**Other scripting languages: Scilab, Octave, Igor, R, IDL, etc.**\n",
    "\n",
    "-   Advantages:\n",
    "    -   Open-source, free, or at least cheaper than Matlab.\n",
    "    -   Some features can be very advanced (statistics in R, figures in\n",
    "        Igor, etc.)\n",
    "-   Drawbacks:\n",
    "    -   Fewer available algorithms than in Matlab, and the language is\n",
    "        not more advanced.\n",
    "    -   Some software are dedicated to one domain. Ex: Gnuplot or\n",
    "        xmgrace to draw curves. These programs are very powerful, but\n",
    "        they are restricted to a single type of usage, such as plotting."
   ]
  },
  {
   "cell_type": "markdown",
   "metadata": {
    "slideshow": {
     "slide_type": "subslide"
    }
   },
   "source": [
    "**What about Python?**\n",
    "\n",
    "-   Advantages:\n",
    "    -   Very rich scientific computing libraries (a bit less than\n",
    "        Matlab, though)\n",
    "    -   Well thought out language, allowing to write very readable and\n",
    "        well structured code: we \"code what we think\".\n",
    "    -   Many libraries for other tasks than scientific computing (web\n",
    "        server management, serial port access, etc.)\n",
    "    -   Free and open-source software, widely spread, with a\n",
    "        vibrant community.\n",
    "-   Drawbacks:\n",
    "    -   less pleasant development environment than, for example, Matlab.\n",
    "        (More geek-oriented).\n",
    "    -   Not all the algorithms that can be found in more specialized\n",
    "        software or toolboxes."
   ]
  },
  {
   "cell_type": "markdown",
   "metadata": {
    "slideshow": {
     "slide_type": "slide"
    }
   },
   "source": [
    "Scientific Python building blocks\n",
    "---------------------------------\n",
    "\n",
    "Unlike Matlab, Scilab or R, Python does not come with a pre-bundled set\n",
    "of modules for scientific computing. Below are the basic building blocks\n",
    "that can be combined to obtain a scientific computing environment:"
   ]
  },
  {
   "cell_type": "markdown",
   "metadata": {
    "slideshow": {
     "slide_type": "subslide"
    }
   },
   "source": [
    "-   **Python**, a generic and modern computing language\n",
    "    -   Python language: data types (`string`, `int`), flow control, data collections (lists, dictionaries), patterns, etc.\n",
    "    -   Modules of the standard library, like `os` , `sys`, `datetime` , etc.\n",
    "    -   A large number of specialized modules or applications written in Python: web protocols, web framework, etc. ... and scientific computing.\n",
    "    -   Development tools (automatic testing, documentation generation)"
   ]
  },
  {
   "cell_type": "markdown",
   "metadata": {
    "slideshow": {
     "slide_type": "subslide"
    }
   },
   "source": [
    "-   **IPython**, an advanced **Python shell** <http://ipython.org/>\n",
    "    ![image](snapshot_ipython.png)"
   ]
  },
  {
   "cell_type": "markdown",
   "metadata": {
    "slideshow": {
     "slide_type": "subslide"
    }
   },
   "source": [
    "-   **Numpy** : provides powerful **numerical arrays** objects, and\n",
    "    routines to manipulate them. <http://www.numpy.org/>\n",
    "\n",
    "\n",
    "-   **Scipy** : high-level data processing routines. Optimization,\n",
    "    regression, interpolation, etc <http://www.scipy.org/>"
   ]
  },
  {
   "cell_type": "markdown",
   "metadata": {
    "slideshow": {
     "slide_type": "subslide"
    }
   },
   "source": [
    "-   **Matplotlib** : 2-D visualization, \"publication-ready\" plots\n",
    "    <http://matplotlib.org/>\n",
    "\n",
    "    ![image](random_c.jpg)"
   ]
  },
  {
   "cell_type": "markdown",
   "metadata": {
    "slideshow": {
     "slide_type": "subslide"
    }
   },
   "source": [
    "-   **Mayavi** : 3-D visualization\n",
    "    <http://code.enthought.com/projects/mayavi/>\n",
    "\n",
    "    ![image](example_surface_from_irregular_data.jpg)\n"
   ]
  },
  {
   "cell_type": "markdown",
   "metadata": {
    "slideshow": {
     "slide_type": "slide"
    }
   },
   "source": [
    "The interactive workflow: IPython and a text editor\n",
    "---------------------------------------------------\n",
    "\n",
    "**Interactive work to test and understand algorithms:** In this section,\n",
    "we describe an interactive workflow with [IPython](http://ipython.org)\n",
    "that is handy to explore and understand algorithms.\n",
    "\n",
    "Python is a general-purpose language. As such, there is not one blessed\n",
    "environment to work in, and not only one way of using it. Although this\n",
    "makes it harder for beginners to find their way, it makes it possible\n",
    "for Python to be used to write programs, in web servers, or embedded\n",
    "devices.\n",
    "\n",
    "**Reference document for this section:**\n",
    "\n",
    "**IPython user manual:** <http://ipython.org/ipython-doc/dev/index.html>"
   ]
  },
  {
   "cell_type": "markdown",
   "metadata": {
    "slideshow": {
     "slide_type": "subslide"
    }
   },
   "source": [
    "### Command line interaction\n",
    "\n",
    "Start \\`ipython\\`:"
   ]
  },
  {
   "cell_type": "code",
   "execution_count": 7,
   "metadata": {
    "collapsed": false,
    "slideshow": {
     "slide_type": "-"
    }
   },
   "outputs": [
    {
     "name": "stdout",
     "output_type": "stream",
     "text": [
      "Hello world\n"
     ]
    }
   ],
   "source": [
    "print('Hello world')"
   ]
  },
  {
   "cell_type": "markdown",
   "metadata": {
    "slideshow": {
     "slide_type": "subslide"
    }
   },
   "source": [
    "Getting help by using the **?** operator after an object:"
   ]
  },
  {
   "cell_type": "code",
   "execution_count": 10,
   "metadata": {
    "collapsed": true,
    "slideshow": {
     "slide_type": "-"
    }
   },
   "outputs": [],
   "source": [
    "print?"
   ]
  },
  {
   "cell_type": "markdown",
   "metadata": {
    "slideshow": {
     "slide_type": "subslide"
    }
   },
   "source": [
    "### Elaboration of the algorithm in an editor\n",
    "\n",
    "Create a file my\\_file.py in a text editor. More on editor/IDE options later...\n",
    "\n",
    "    s = 'Hello world'\n",
    "    print(s)\n",
    "\n",
    "Now, you can run it in IPython and explore the resulting variables:"
   ]
  },
  {
   "cell_type": "code",
   "execution_count": 18,
   "metadata": {
    "collapsed": false,
    "slideshow": {
     "slide_type": "-"
    }
   },
   "outputs": [
    {
     "name": "stdout",
     "output_type": "stream",
     "text": [
      "Hello world\n"
     ]
    }
   ],
   "source": [
    "%run my_file.py"
   ]
  },
  {
   "cell_type": "code",
   "execution_count": 19,
   "metadata": {
    "collapsed": false,
    "slideshow": {
     "slide_type": "-"
    }
   },
   "outputs": [
    {
     "data": {
      "text/plain": [
       "'Hello world'"
      ]
     },
     "execution_count": 19,
     "metadata": {},
     "output_type": "execute_result"
    }
   ],
   "source": [
    "s"
   ]
  },
  {
   "cell_type": "code",
   "execution_count": 20,
   "metadata": {
    "collapsed": false,
    "slideshow": {
     "slide_type": "-"
    }
   },
   "outputs": [
    {
     "name": "stdout",
     "output_type": "stream",
     "text": [
      "Variable   Type    Data/Info\n",
      "----------------------------\n",
      "s          str     Hello world\n"
     ]
    }
   ],
   "source": [
    "%whos"
   ]
  },
  {
   "cell_type": "markdown",
   "metadata": {
    "slideshow": {
     "slide_type": "subslide"
    }
   },
   "source": [
    "****From a script to functions****\n",
    "\n",
    "Just as in matlab, \n",
    "-   A script is not reusable, functions are.\n",
    "-   Thinking in terms of functions helps breaking the problem in\n",
    "    small blocks."
   ]
  },
  {
   "cell_type": "markdown",
   "metadata": {
    "slideshow": {
     "slide_type": "slide"
    }
   },
   "source": [
    "### IPython Tips and Tricks\n",
    "\n",
    "<!-- The IPython user manual contains a wealth of information about using\n",
    "IPython, but to get you started we want to give you a quick introduction\n",
    "to four useful features: *history*, *magic functions*, *aliases* and\n",
    "*tab completion*.-->"
   ]
  },
  {
   "cell_type": "markdown",
   "metadata": {
    "slideshow": {
     "slide_type": "fragment"
    }
   },
   "source": [
    "Like a UNIX shell and Matlab, IPython supports command history. Type *up* and\n",
    "*down* to navigate previously typed commands:"
   ]
  },
  {
   "cell_type": "markdown",
   "metadata": {
    "slideshow": {
     "slide_type": "fragment"
    }
   },
   "source": [
    "IPython supports so called *magic* functions by prefixing a command with\n",
    "the `%` character. For example, the `run` and `whos` functions from the\n",
    "previous section are magic functions. Note that, the setting\n",
    "`automagic`, which is enabled by default, allows you to omit the\n",
    "preceding `%` sign. Thus, you can just type the magic function and it\n",
    "will work."
   ]
  },
  {
   "cell_type": "markdown",
   "metadata": {
    "slideshow": {
     "slide_type": "subslide"
    }
   },
   "source": [
    "Other useful magic functions are:\n",
    "\n",
    "-   `%cd` to change the current directory.\n",
    "-   `%timeit` allows you to time the execution of short snippets using\n",
    "    the `timeit` module from the standard library:\n",
    "-   `%cpaste` allows you to paste code, especially code from websites\n",
    "    which has been prefixed with the standard Python prompt (e.g. `>>>`)\n",
    "    or with an ipython prompt, (e.g. `in [3]`):\n",
    "-   `%debug` allows you to enter post-mortem debugging. That is to say,\n",
    "    if the code you try to execute, raises an exception, using `%debug`\n",
    "    will enter the debugger at the point where the exception was thrown."
   ]
  },
  {
   "cell_type": "markdown",
   "metadata": {
    "slideshow": {
     "slide_type": "subslide"
    }
   },
   "source": [
    "****IPython help****\n",
    "\n",
    "-   The built-in IPython cheat-sheet is accessible via the `%quickref`\n",
    "    magic function.\n",
    "-   A list of all available magic functions is shown when typing\n",
    "    `%magic`.\n",
    "\n",
    "Furthermore IPython ships with various *aliases* which emulate common\n",
    "UNIX command line tools such as `ls` to list files, `cp` to copy files\n",
    "and `rm` to remove files. A list of aliases is shown when typing\n",
    "`alias`:"
   ]
  },
  {
   "cell_type": "code",
   "execution_count": 15,
   "metadata": {
    "collapsed": false,
    "slideshow": {
     "slide_type": "subslide"
    }
   },
   "outputs": [
    {
     "name": "stdout",
     "output_type": "stream",
     "text": [
      "Total number of aliases: 12\n"
     ]
    },
    {
     "data": {
      "text/plain": [
       "[('cat', 'cat'),\n",
       " ('cp', 'cp'),\n",
       " ('ldir', 'ls -F -o --color %l | grep /$'),\n",
       " ('lf', 'ls -F -o --color %l | grep ^-'),\n",
       " ('lk', 'ls -F -o --color %l | grep ^l'),\n",
       " ('ll', 'ls -F -o --color'),\n",
       " ('ls', 'ls -F --color'),\n",
       " ('lx', 'ls -F -o --color %l | grep ^-..x'),\n",
       " ('mkdir', 'mkdir'),\n",
       " ('mv', 'mv'),\n",
       " ('rm', 'rm'),\n",
       " ('rmdir', 'rmdir')]"
      ]
     },
     "execution_count": 15,
     "metadata": {},
     "output_type": "execute_result"
    }
   ],
   "source": [
    "alias"
   ]
  },
  {
   "cell_type": "markdown",
   "metadata": {
    "slideshow": {
     "slide_type": "subslide"
    }
   },
   "source": [
    "Lastly, we would like to mention the *tab completion* feature, whose\n",
    "description we cite directly from the IPython manual:\n",
    "\n",
    "*Tab completion, especially for attributes, is a convenient way to\n",
    "explore the structure of any object you’re dealing with. Simply type\n",
    "object\\_name.&lt;TAB&gt; to view the object’s attributes. Besides Python\n",
    "objects and keywords, tab completion also works on file and directory\n",
    "names.*"
   ]
  },
  {
   "cell_type": "code",
   "execution_count": 17,
   "metadata": {
    "collapsed": false
   },
   "outputs": [],
   "source": [
    "s.encode?"
   ]
  }
 ],
 "metadata": {
  "celltoolbar": "Slideshow",
  "kernelspec": {
   "display_name": "Python 3",
   "language": "python",
   "name": "python3"
  },
  "language_info": {
   "codemirror_mode": {
    "name": "ipython",
    "version": 3
   },
   "file_extension": ".py",
   "mimetype": "text/x-python",
   "name": "python",
   "nbconvert_exporter": "python",
   "pygments_lexer": "ipython3",
   "version": "3.5.1"
  }
 },
 "nbformat": 4,
 "nbformat_minor": 0
}
