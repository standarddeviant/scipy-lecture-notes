{
 "cells": [
  {
   "cell_type": "markdown",
   "metadata": {
    "slideshow": {
     "slide_type": "slide"
    }
   },
   "source": [
    "Python 101 \n",
    "===========\n",
    "or \n",
    "===\n",
    "\"Enough Python to use tensorflow\"\n",
    "==============================\n",
    "\n",
    "Dave Crist\n",
    "\n",
    "Dan Tengelsen\n",
    "\n",
    "Most content is heavily borrowed from http://www.scipy-lectures.org/"
   ]
  },
  {
   "cell_type": "markdown",
   "metadata": {
    "slideshow": {
     "slide_type": "subslide"
    }
   },
   "source": [
    "# What is tensorflow?\n",
    "*\"TensorFlow is an Open Source Software Library for Machine Intelligence\"*\n",
    "![](tensors_flowing.gif)"
   ]
  },
  {
   "cell_type": "markdown",
   "metadata": {
    "slideshow": {
     "slide_type": "subslide"
    }
   },
   "source": [
    "# What are the sections of the talk?\n",
    "1. Scientific Python Tools\n",
    "2. Features of base Python language\n",
    "3. Features of Scientific Python libraries"
   ]
  },
  {
   "cell_type": "markdown",
   "metadata": {
    "slideshow": {
     "slide_type": "subslide"
    }
   },
   "source": [
    "### The scientist's needs\n",
    "\n",
    "-   Get data <!-- (simulation, experiment control),-->\n",
    "-   Manipulate and process data\n",
    "-   Visualize results <!-- (to understand what we are doing!),-->\n",
    "-   Communicate results: \n",
    "    - produce figures for reports or publications, write presentations."
   ]
  },
  {
   "cell_type": "markdown",
   "metadata": {
    "slideshow": {
     "slide_type": "slide"
    }
   },
   "source": [
    "# Matlab compared to Python"
   ]
  },
  {
   "cell_type": "markdown",
   "metadata": {
    "slideshow": {
     "slide_type": "subslide"
    }
   },
   "source": [
    "**Matlab**\n",
    "\n",
    "-   Advantages:\n",
    "    -   Rich collection of libraries and algorithms\n",
    "    -   Fast execution, much is written in C / Fortran\n",
    "    -   Pleasant development environment, built-in editor\n",
    "    - Well documented\n",
    "    -   Commercial support is available\n",
    "-   Drawbacks:\n",
    "    -   Base language is quite poor and can become restrictive for\n",
    "        advanced users\n",
    "    -   Not free"
   ]
  },
  {
   "cell_type": "markdown",
   "metadata": {
    "slideshow": {
     "slide_type": "subslide"
    }
   },
   "source": [
    "**What about Python?**\n",
    "-   Advantages:\n",
    "    -   Rich scientific computing libraries\n",
    "    -   General purpose language (i.e., threading)\n",
    "    -   Many libraries for tasks like web\n",
    "        server management, serial port access, etc.\n",
    "    -   Free and open-source, with a vibrant community.\n",
    "-   Drawbacks:\n",
    "    -   Less pleasant development environment than Matlab. More \"geek-oriented\"\n",
    "    -   Not all algorithms can be found in specialized software or toolboxes."
   ]
  },
  {
   "cell_type": "markdown",
   "metadata": {
    "slideshow": {
     "slide_type": "slide"
    }
   },
   "source": [
    "Scientific Python building blocks\n",
    "---------------------------------\n",
    "\n",
    "Unlike Matlab, Scilab or R, <font color=\"#0000FF\">**Python does not come with a pre-bundled set\n",
    "of modules for scientific computing**.</font> Below are the basic building blocks\n",
    "that can be combined to obtain a scientific computing environment:"
   ]
  },
  {
   "cell_type": "markdown",
   "metadata": {
    "slideshow": {
     "slide_type": "subslide"
    }
   },
   "source": [
    "<img src=\"matlab_vs_python_edit.png\">"
   ]
  },
  {
   "cell_type": "markdown",
   "metadata": {},
   "source": [
    "# FIXME, add 'red box' picture from above about libraries presented in this talk"
   ]
  },
  {
   "cell_type": "markdown",
   "metadata": {
    "slideshow": {
     "slide_type": "subslide"
    }
   },
   "source": [
    "<div style=\"float:right;\"><img src=\"python-logo-master-v3-TM.png\" width=\"300\" height=\"150\" border=\"0\"></div><div><h3>Building Blocks</h3></div><br>\n",
    "-   **Python**, a generic and modern computing language\n",
    "    -   Python language: data types (`string`, `int`), flow control, data collections (lists, dictionaries), patterns, etc.\n",
    "    -   Modules of the standard library, like <font color=\"#0000FF\">os</font> , <font color=\"#0000FF\">sys</font>, <font color=\"#0000FF\">datetime</font> , etc.\n",
    "    -   A large number of specialized modules or applications written in Python: web protocols, web framework, etc. ... and scientific computing.\n",
    "    -   Development tools (automatic testing, documentation generation)"
   ]
  },
  {
   "cell_type": "markdown",
   "metadata": {
    "slideshow": {
     "slide_type": "subslide"
    }
   },
   "source": [
    "### Building Blocks\n",
    "**IPython**, <font color=\"blue\">***I***</font>nteractive <font color=\"blue\">***Python***</font> command window\n",
    "\n",
    "![image](ipython_sample.png)"
   ]
  },
  {
   "cell_type": "markdown",
   "metadata": {
    "slideshow": {
     "slide_type": "subslide"
    }
   },
   "source": [
    "### Building Blocks\n",
    "**The Jupyter/IPython Notebook**\n",
    "    ![image](jupyter_notebook.png)"
   ]
  },
  {
   "cell_type": "markdown",
   "metadata": {
    "slideshow": {
     "slide_type": "subslide"
    }
   },
   "source": [
    "# FYI\n",
    "Go to <http://www.jupyter.org> for more info on Jupyter\n",
    "<img src=\"ipython_equals_jupyter.png\">"
   ]
  },
  {
   "cell_type": "markdown",
   "metadata": {
    "slideshow": {
     "slide_type": "subslide"
    }
   },
   "source": [
    "### Building Blocks\n",
    "-   **Numpy** : provides powerful <font color=\"#0000FF\">**numerical array**</font> objects, and\n",
    "    routines to manipulate them. <http://www.numpy.org/>\n",
    "<img src=\"numpy.jpg\">"
   ]
  },
  {
   "cell_type": "markdown",
   "metadata": {
    "slideshow": {
     "slide_type": "subslide"
    }
   },
   "source": [
    "### Building Blocks\n",
    "-   **Scipy** : <font color=\"#0000FF\">**Similar to Matlab Toolboxes**</font>, high-level data processing routines. Signal processing, optimization,\n",
    "    regression, interpolation, etc.  \n",
    "<http://www.scipy.org/>\n",
    "\n",
    "<img src=\"scipy.png\">"
   ]
  },
  {
   "cell_type": "markdown",
   "metadata": {
    "slideshow": {
     "slide_type": "subslide"
    }
   },
   "source": [
    "### Building Blocks\n",
    "**Matplotlib** : <font color=\"#0000FF\">**Very Similar to Matlab Plotting**</font>, 2-D visualization, \"publication-ready\" plots\n",
    "    <http://matplotlib.org/>\n",
    "    \n",
    "Check out the matplotlib gallery: http://matplotlib.org/gallery.html\n",
    "\n",
    "\n",
    "![image](random_c.jpg)"
   ]
  },
  {
   "cell_type": "markdown",
   "metadata": {
    "slideshow": {
     "slide_type": "subslide"
    }
   },
   "source": [
    "-   **Mayavi** : 3-D visualization\n",
    "    <http://code.enthought.com/projects/mayavi/>\n",
    "\n",
    "    ![image](example_surface_from_irregular_data.jpg)\n"
   ]
  },
  {
   "cell_type": "markdown",
   "metadata": {
    "slideshow": {
     "slide_type": "slide"
    }
   },
   "source": [
    "The interactive workflow: IPython and a text editor\n",
    "---------------------------------------------------\n",
    "\n",
    "**Interactive work to test and understand algorithms:** \n",
    "Python is a general-purpose language. As such, <font color=\"#0000FF\">** there is not one blessed\n",
    "environment to work in**</font>, and not only one way of using it.\n",
    "\n",
    "<!-- **Reference document for this section:** -->\n",
    "\n",
    "**IPython user manual:** <http://ipython.org/ipython-doc/dev/index.html>"
   ]
  },
  {
   "cell_type": "markdown",
   "metadata": {
    "slideshow": {
     "slide_type": "subslide"
    }
   },
   "source": [
    "## However...\n",
    "\n",
    "* I recommend <font color=\"#0000FF\">**Anaconda**</font>, and specifically <font color=\"#0000FF\">**Spyder**</font> for beginners\n",
    "* Spyder comes with Anaconda\n",
    "* Spyder is similar to the Matlab user interface and has\n",
    "    * A variable explorer\n",
    "    * Real-time syntax checking in the editor\n",
    "    * Running code with F5 and F9 like Matlab\n",
    "\n",
    "<font color=\"gray\">*** SHORT SPYDER DEMO ***</font>"
   ]
  },
  {
   "cell_type": "markdown",
   "metadata": {
    "slideshow": {
     "slide_type": "subslide"
    }
   },
   "source": [
    "### IPython Basics: <font color=\"blue\">for loop</font>\n",
    "Looping over ***SEQUENCES***"
   ]
  },
  {
   "cell_type": "code",
   "execution_count": 12,
   "metadata": {
    "collapsed": false
   },
   "outputs": [
    {
     "name": "stdout",
     "output_type": "stream",
     "text": [
      "0\n",
      "1\n",
      "2\n",
      "-20\n"
     ]
    }
   ],
   "source": [
    "for idx in [0,1,2,-20] :\n",
    "    print(idx)"
   ]
  },
  {
   "cell_type": "code",
   "execution_count": 11,
   "metadata": {
    "collapsed": false,
    "slideshow": {
     "slide_type": "-"
    }
   },
   "outputs": [
    {
     "name": "stdout",
     "output_type": "stream",
     "text": [
      "Hello Framingham!\n",
      "0\n",
      "Hello Framingham!\n",
      "1\n",
      "Hello Framingham!\n",
      "2\n"
     ]
    }
   ],
   "source": [
    "for idx in range(3):\n",
    "    print('Hello Framingham!')\n",
    "    print(idx)"
   ]
  },
  {
   "cell_type": "markdown",
   "metadata": {
    "slideshow": {
     "slide_type": "subslide"
    }
   },
   "source": [
    "### IPython Basics: <font color=\"blue\">Getting help</font>\n",
    "Get help info by using the <font color=\"blue\" size=\"20\">**?**</font> operator after an object:"
   ]
  },
  {
   "cell_type": "code",
   "execution_count": 3,
   "metadata": {
    "collapsed": false,
    "slideshow": {
     "slide_type": "-"
    }
   },
   "outputs": [],
   "source": [
    "print?"
   ]
  },
  {
   "cell_type": "markdown",
   "metadata": {
    "slideshow": {
     "slide_type": "subslide"
    }
   },
   "source": [
    "### IPython Basics: <font color=\"blue\">run a file</font>\n",
    "\n",
    "Create a file my\\_file.py in a text editor:\n",
    "\n",
    "    s = 'Hello Auditorium'\n",
    "    print(s)\n",
    "\n",
    "Now, you can run it in IPython and explore the resulting variables:"
   ]
  },
  {
   "cell_type": "code",
   "execution_count": 4,
   "metadata": {
    "collapsed": false,
    "slideshow": {
     "slide_type": "-"
    }
   },
   "outputs": [
    {
     "name": "stdout",
     "output_type": "stream",
     "text": [
      "Hello Auditorium!\n"
     ]
    }
   ],
   "source": [
    "%run my_file.py"
   ]
  },
  {
   "cell_type": "code",
   "execution_count": 5,
   "metadata": {
    "collapsed": false,
    "slideshow": {
     "slide_type": "-"
    }
   },
   "outputs": [
    {
     "data": {
      "text/plain": [
       "'Hello Auditorium!'"
      ]
     },
     "execution_count": 5,
     "metadata": {},
     "output_type": "execute_result"
    }
   ],
   "source": [
    "s"
   ]
  },
  {
   "cell_type": "code",
   "execution_count": 6,
   "metadata": {
    "collapsed": false,
    "slideshow": {
     "slide_type": "-"
    }
   },
   "outputs": [
    {
     "name": "stdout",
     "output_type": "stream",
     "text": [
      "Variable   Type    Data/Info\n",
      "----------------------------\n",
      "idx        int     2\n",
      "s          str     Hello Auditorium!\n"
     ]
    }
   ],
   "source": [
    "%whos"
   ]
  },
  {
   "cell_type": "markdown",
   "metadata": {
    "slideshow": {
     "slide_type": "subslide"
    }
   },
   "source": [
    "### IPython Basics: <font color=\"blue\">scripts vs. functions</font>\n",
    "\n",
    "Just as in matlab, \n",
    "-   A script is not reusable, functions are.\n",
    "-   Thinking in terms of functions helps breaking the problem in\n",
    "    small blocks."
   ]
  },
  {
   "cell_type": "markdown",
   "metadata": {
    "slideshow": {
     "slide_type": "slide"
    }
   },
   "source": [
    "### IPython Tips and Tricks ( command history )\n",
    "\n",
    "<!-- The IPython user manual contains a wealth of information about using\n",
    "IPython, but to get you started we want to give you a quick introduction\n",
    "to four useful features: *history*, *magic functions*, *aliases* and\n",
    "*tab completion*.-->"
   ]
  },
  {
   "cell_type": "markdown",
   "metadata": {
    "slideshow": {
     "slide_type": "fragment"
    }
   },
   "source": [
    "Like a UNIX shell and Matlab, IPython supports <font color=\"blue\">**command history**</font>: Type *up* and\n",
    "*down* to navigate previously typed commands."
   ]
  },
  {
   "cell_type": "markdown",
   "metadata": {
    "slideshow": {
     "slide_type": "slide"
    }
   },
   "source": [
    "### IPython Tips and Tricks ( magic functions )\n",
    "\n",
    "<!-- The IPython user manual contains a wealth of information about using\n",
    "IPython, but to get you started we want to give you a quick introduction\n",
    "to four useful features: *history*, *magic functions*, *aliases* and\n",
    "*tab completion*.-->"
   ]
  },
  {
   "cell_type": "markdown",
   "metadata": {
    "slideshow": {
     "slide_type": "fragment"
    }
   },
   "source": [
    "IPython supports so called <font color=\"#0000FF\">**magic**</font> functions by prefixing a command with\n",
    "the <font color=\"#0000FF\">**% character**</font>. For example, the <font color=\"#0000FF\">**run**</font> and <font color=\"#0000FF\">**whos**</font> functions from the\n",
    "previous section are magic functions. \n",
    "\n",
    "<font color=\"red\" size=14>NOTE: </font>*that, the setting <font color=\"blue\">**automagic**</font>, which is enabled by default, allows you to omit the\n",
    "preceding `%` sign. Thus, you can just type the magic function and it\n",
    "will work.*"
   ]
  },
  {
   "cell_type": "markdown",
   "metadata": {
    "slideshow": {
     "slide_type": "subslide"
    }
   },
   "source": [
    "Other useful magic functions are:\n",
    "\n",
    "-   <font color=\"#0000FF\">**%cd**</font> to change the current directory.\n",
    "-   <font color=\"#0000FF\">**%timeit**</font> allows you to time the execution of short snippets using\n",
    "    the `timeit` module from the standard library:\n",
    "-   <font color=\"#0000FF\">**%cpaste**</font> allows you to paste code, especially code from websites\n",
    "    which has been prefixed with the standard Python prompt (e.g. `>>>`)\n",
    "    or with an ipython prompt, (e.g. `in [3]`):\n",
    "-   <font color=\"#0000FF\">**%debug**</font> allows you to enter post-mortem debugging. That is to say,\n",
    "    if the code you try to execute, raises an exception, using `%debug`\n",
    "    will enter the debugger at the point where the exception was thrown."
   ]
  },
  {
   "cell_type": "markdown",
   "metadata": {
    "slideshow": {
     "slide_type": "subslide"
    }
   },
   "source": [
    "### IPython Tips and Tricks ( lots of help )\n",
    "\n",
    "-   The built-in IPython cheat-sheet is accessible via the <font color=\"#0000FF\">**%quickref**</font>\n",
    "    magic function\n",
    "-   A list of all available magic functions is shown when typing\n",
    "    <font color=\"#0000FF\">**%magic**</font>\n",
    "\n",
    "Furthermore IPython ships with various *aliases* which emulate common\n",
    "UNIX command line tools such as `ls` to list files, `cp` to copy files\n",
    "and `rm` to remove files. A list of aliases is shown when typing <font color=\"blue\">**%alias**</font>"
   ]
  },
  {
   "cell_type": "markdown",
   "metadata": {
    "slideshow": {
     "slide_type": "subslide"
    }
   },
   "source": [
    "### IPython Tips and Tricks ( tab completion )\n",
    "Lastly, we would like to mention the *tab completion* feature, whose\n",
    "description we cite directly from the IPython manual:\n",
    "\n",
    "*Tab completion, especially for attributes, is a convenient way to\n",
    "explore the structure of any object you’re dealing with. Simply type\n",
    "object\\_name.&lt;TAB&gt; to view the object’s attributes. Besides Python\n",
    "objects and keywords, tab completion also works on file and directory\n",
    "names.*"
   ]
  },
  {
   "cell_type": "code",
   "execution_count": 7,
   "metadata": {
    "collapsed": false
   },
   "outputs": [
    {
     "name": "stdout",
     "output_type": "stream",
     "text": [
      "Hello Auditorium!\n",
      "HELLO AUDITORIUM!\n"
     ]
    }
   ],
   "source": [
    "print(s)\n",
    "print(s.upper())"
   ]
  }
 ],
 "metadata": {
  "celltoolbar": "Slideshow",
  "kernelspec": {
   "display_name": "Python 2",
   "language": "python",
   "name": "python2"
  },
  "language_info": {
   "codemirror_mode": {
    "name": "ipython",
    "version": 2
   },
   "file_extension": ".py",
   "mimetype": "text/x-python",
   "name": "python",
   "nbconvert_exporter": "python",
   "pygments_lexer": "ipython2",
   "version": "2.7.11"
  }
 },
 "nbformat": 4,
 "nbformat_minor": 0
}
